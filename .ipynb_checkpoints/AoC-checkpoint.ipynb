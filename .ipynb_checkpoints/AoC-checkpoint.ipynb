{
 "cells": [
  {
   "cell_type": "code",
   "execution_count": 1,
   "id": "208902c9",
   "metadata": {},
   "outputs": [],
   "source": [
    "def f(loc, suff=None, f=None):\n",
    "    with open(loc) as file:\n",
    "        if f:\n",
    "            return list(map(lambda l: f(l.rstrip()), file.readlines()))\n",
    "        else:\n",
    "            return list(map(lambda l: l.rstrip(), file.readlines()))\n",
    "        \n",
    "def g(day, suff=None, f=None):\n",
    "    with open(\"/Users/maarten/Downloads/day{}.txt\".format(day)) as file:\n",
    "        if f:\n",
    "            return list(map(lambda l: f(l.rstrip()), file.readlines()))\n",
    "        else:\n",
    "            return list(map(lambda l: l.rstrip(), file.readlines()))\n"
   ]
  },
  {
   "cell_type": "code",
   "execution_count": 3,
   "id": "d1b77d1d",
   "metadata": {},
   "outputs": [
    {
     "data": {
      "text/plain": [
       "43774224"
      ]
     },
     "execution_count": 3,
     "metadata": {},
     "output_type": "execute_result"
    }
   ],
   "source": [
    "# Day 3.2\n",
    "def day3(file):\n",
    "    lines = f(file)\n",
    "    bits = {}\n",
    "    \n",
    "    mkeep = lines\n",
    "    lkeep = lines\n",
    "    m = 0\n",
    "    l = 0\n",
    "    for i in range(len(lines[0])):\n",
    "        s = sum(map(lambda l: int(l[i]), mkeep))\n",
    "        if s < len(mkeep)/2:\n",
    "            mkeep = list(filter(lambda l: l[i] == '0', mkeep))\n",
    "        else:\n",
    "            mkeep = list(filter(lambda l: l[i] == '1', mkeep))\n",
    "        if len(mkeep) >= 1:\n",
    "            m = int(min(mkeep), 2)\n",
    "        s = sum(map(lambda l: int(l[i]), lkeep))\n",
    "        if s < len(lkeep)/2:\n",
    "            lkeep = list(filter(lambda l: l[i] == '1', lkeep))\n",
    "        else:\n",
    "            lkeep = list(filter(lambda l: l[i] == '0', lkeep))\n",
    "        if len(lkeep) >= 1:\n",
    "            l = int(min(lkeep), 2)\n",
    "    return m*l\n",
    "        \n",
    "day3(\"/Users/maarten/Downloads/report18.txt\".format(3))"
   ]
  },
  {
   "cell_type": "code",
   "execution_count": 4,
   "id": "1663dc4b",
   "metadata": {},
   "outputs": [
    {
     "data": {
      "text/plain": [
       "1307354"
      ]
     },
     "execution_count": 4,
     "metadata": {},
     "output_type": "execute_result"
    }
   ],
   "source": [
    "# Day 3.1\n",
    "def day3():\n",
    "    lines = f(\"/Users/maarten/Downloads/day{}.txt\".format(3))\n",
    "    bits = {}\n",
    "    n = 0\n",
    "\n",
    "    for line in lines:\n",
    "        for i,bit in enumerate(line):\n",
    "            if i in bits:\n",
    "                bits[i]+=int(line[i])\n",
    "            else:\n",
    "                bits[i]=int(line[i])\n",
    "        n+=1\n",
    "        \n",
    "    m = \"\"\n",
    "    l = \"\"\n",
    "\n",
    "    for k,v in sorted(bits.items(), key = lambda d: d[0]):\n",
    "        if v<n/2:\n",
    "            m += \"0\"\n",
    "            l += \"1\"\n",
    "        else:\n",
    "            m += \"1\"\n",
    "            l += \"0\"\n",
    "    return int(m, 2)*int(l,2)\n",
    "day3()"
   ]
  },
  {
   "cell_type": "code",
   "execution_count": 43,
   "id": "8947533c",
   "metadata": {},
   "outputs": [],
   "source": [
    "day2 = g(2)"
   ]
  },
  {
   "cell_type": "code",
   "execution_count": 44,
   "id": "227dfb6a",
   "metadata": {},
   "outputs": [
    {
     "data": {
      "text/plain": [
       "2272262"
      ]
     },
     "execution_count": 44,
     "metadata": {},
     "output_type": "execute_result"
    }
   ],
   "source": [
    "#Day 2\n",
    "deltas = {\"forward\": (1,0), \"down\": (0,1), \"up\": (0,-1)}\n",
    "pos = (0,0)\n",
    "for d in day2:\n",
    "    inst, amount = tuple(d.split(\" \"))\n",
    "    amount = int(amount)\n",
    "    delta = deltas[inst]\n",
    "    pos = (pos[0] + amount * delta[0], pos[1] + amount * delta[1])\n",
    "pos[0]*pos[1]"
   ]
  },
  {
   "cell_type": "code",
   "execution_count": 41,
   "id": "7a673ddb",
   "metadata": {},
   "outputs": [
    {
     "data": {
      "text/plain": [
       "2134882034"
      ]
     },
     "execution_count": 41,
     "metadata": {},
     "output_type": "execute_result"
    }
   ],
   "source": [
    "#Day 2.2\n",
    "aim = 0\n",
    "hpos = 0\n",
    "depth = 0\n",
    "for d in day2:\n",
    "    inst, amount = tuple(d.split(\" \"))\n",
    "    amount = int(amount)\n",
    "    if inst == \"down\":\n",
    "        aim += amount\n",
    "    if inst == \"up\":\n",
    "        aim -= amount\n",
    "    if inst == \"forward\":\n",
    "        hpos += amount\n",
    "        depth += aim * amount\n",
    "hpos * depth"
   ]
  },
  {
   "cell_type": "code",
   "execution_count": 31,
   "id": "26969b27",
   "metadata": {},
   "outputs": [],
   "source": [
    "day1 = g(1, f=int)"
   ]
  },
  {
   "cell_type": "code",
   "execution_count": 33,
   "id": "555039b2",
   "metadata": {},
   "outputs": [
    {
     "data": {
      "text/plain": [
       "1390"
      ]
     },
     "execution_count": 33,
     "metadata": {},
     "output_type": "execute_result"
    }
   ],
   "source": [
    "#Day 1\n",
    "prev = None\n",
    "cnt = 0\n",
    "for d in day1:\n",
    "    if prev and d > prev:\n",
    "        cnt += 1\n",
    "    prev = d\n",
    "cnt"
   ]
  },
  {
   "cell_type": "code",
   "execution_count": 35,
   "id": "80eb0faf",
   "metadata": {},
   "outputs": [
    {
     "data": {
      "text/plain": [
       "1457"
      ]
     },
     "execution_count": 35,
     "metadata": {},
     "output_type": "execute_result"
    }
   ],
   "source": [
    "#Day 1.2\n",
    "prev = None\n",
    "cnt = 0\n",
    "for i,d in enumerate(day1):\n",
    "    s = sum(day1[i:i+3])\n",
    "    if prev and s > prev:\n",
    "        cnt += 1\n",
    "    prev = s\n",
    "cnt"
   ]
  }
 ],
 "metadata": {
  "kernelspec": {
   "display_name": "Python 3 (ipykernel)",
   "language": "python",
   "name": "python3"
  },
  "language_info": {
   "codemirror_mode": {
    "name": "ipython",
    "version": 3
   },
   "file_extension": ".py",
   "mimetype": "text/x-python",
   "name": "python",
   "nbconvert_exporter": "python",
   "pygments_lexer": "ipython3",
   "version": "3.9.6"
  }
 },
 "nbformat": 4,
 "nbformat_minor": 5
}
