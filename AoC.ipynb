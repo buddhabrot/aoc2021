{
 "cells": [
  {
   "cell_type": "code",
   "execution_count": 108,
   "id": "208902c9",
   "metadata": {},
   "outputs": [],
   "source": [
    "def f(loc, suff=None, f=None):\n",
    "    with open(loc) as file:\n",
    "        if f:\n",
    "            return list(map(lambda l: f(l.rstrip()), file.readlines()))\n",
    "        else:\n",
    "            return list(map(lambda l: l.rstrip(), file.readlines()))\n",
    "        \n",
    "def g(day, suff=None, f=None):\n",
    "    with open(\"/Users/maarten/Downloads/day{}.txt\".format(day)) as file:\n",
    "        if f:\n",
    "            return list(map(lambda l: f(l.rstrip()), file.readlines()))\n",
    "        else:\n",
    "            return list(map(lambda l: l.rstrip(), file.readlines()))\n",
    "def p(f):\n",
    "    return \"/Users/maarten/Downloads/{}.txt\".format(f)"
   ]
  },
  {
   "cell_type": "code",
   "execution_count": 129,
   "id": "93ce1198",
   "metadata": {},
   "outputs": [
    {
     "data": {
      "text/plain": [
       "15463"
      ]
     },
     "execution_count": 129,
     "metadata": {},
     "output_type": "execute_result"
    }
   ],
   "source": [
    "def day52(file):\n",
    "    criteria = []\n",
    "    hits = {}\n",
    "    s = 0\n",
    "    with open(file) as f:\n",
    "        for line in f:\n",
    "            line = line.rstrip()\n",
    "            left,right = tuple(line.split('->'))\n",
    "            x1,y1 = tuple(map(int, left.rstrip().split(',')))\n",
    "            x2,y2 = tuple(map(int, right.rstrip().split(',')))\n",
    "            xSign = 1 if x2 >= x1 else -1\n",
    "            ySign = 1 if y2 >= y1 else -1\n",
    "            xs = range(x1, x2+xSign, xSign)\n",
    "            ys = range(y1, y2+ySign, ySign)\n",
    "            if (x1 == x2 or y1 == y2):\n",
    "                r = zip(list(xs)*len(ys),list(ys)*len(xs))\n",
    "            else:\n",
    "                r = zip(list(xs),list(ys))\n",
    "            for x,y in r:\n",
    "                if (x,y) in hits:\n",
    "                    if hits[(x,y)] == 1:\n",
    "                        s += 1\n",
    "                    hits[(x,y)] += 1\n",
    "                else:\n",
    "                    hits[(x,y)] = 1\n",
    "    return s\n",
    "day52(p(\"day5\"))"
   ]
  },
  {
   "cell_type": "code",
   "execution_count": 109,
   "id": "8e1ea613",
   "metadata": {},
   "outputs": [
    {
     "data": {
      "text/plain": [
       "5698"
      ]
     },
     "execution_count": 109,
     "metadata": {},
     "output_type": "execute_result"
    }
   ],
   "source": [
    "def day5(file):\n",
    "    criteria = []\n",
    "    hits = {}\n",
    "    s = 0\n",
    "    with open(file) as f:\n",
    "        for line in f:\n",
    "            line = line.rstrip()\n",
    "            left,right = tuple(line.split('->'))\n",
    "            x1,y1 = tuple(map(int, left.rstrip().split(',')))\n",
    "            x2,y2 = tuple(map(int, right.rstrip().split(',')))\n",
    "            if not (x1 == x2 or y1 == y2):\n",
    "                continue\n",
    "            for x in range(min(x1, x2), max(x1, x2)+1):\n",
    "                for y in range(min(y1, y2), max(y1, y2)+1):\n",
    "                    if (x,y) in hits:\n",
    "                        if hits[(x,y)] == 1:\n",
    "                            s += 1\n",
    "                        hits[(x,y)] += 1\n",
    "                    else:\n",
    "                        hits[(x,y)] = 1\n",
    "                    \n",
    "    return s\n",
    "day5(p(\"day5\"))"
   ]
  },
  {
   "cell_type": "code",
   "execution_count": 87,
   "id": "66cfd44d",
   "metadata": {},
   "outputs": [
    {
     "name": "stdout",
     "output_type": "stream",
     "text": [
      "21070\n"
     ]
    }
   ],
   "source": [
    "def board_mark(board, number):\n",
    "    for l in board:\n",
    "        if number in l:\n",
    "            idx = l.index(number)\n",
    "            l[idx] = -10000\n",
    "    return board\n",
    "\n",
    "def score_board(board):\n",
    "    s = 0\n",
    "    for l in board:\n",
    "        s += sum(filter(lambda n: n > 0, l))\n",
    "    return s\n",
    "\n",
    "def val_board(board):\n",
    "    neg_row = filter(lambda l: all(map(lambda n: n<0, l)), board)\n",
    "    neg_col = filter(lambda l: all(map(lambda n: n<0, l)), list(map(list, zip(*board))))\n",
    "    return any(neg_row) or any(neg_col)\n",
    "                     \n",
    "def day4_2(file):\n",
    "    with open(file) as f:\n",
    "        draws = map(int, f.readline().split(\",\"))\n",
    "        \n",
    "        boards = []\n",
    "        done = set([])\n",
    "        board = None\n",
    "        for line in f:\n",
    "            line = line.rstrip()\n",
    "            if not line:\n",
    "                if board:\n",
    "                    boards.append(board)\n",
    "                board = []\n",
    "            else:\n",
    "                board.append(list(map(int, line.split())))\n",
    "        boards.append(board)\n",
    "        \n",
    "        for draw in draws:\n",
    "            for i, board in enumerate(boards):\n",
    "                board = board_mark(board, draw)\n",
    "                if val_board(board):\n",
    "                    done.add(i)\n",
    "                    if len(done) == len(boards):\n",
    "                        s = score_board(board)\n",
    "                        return s*draw\n",
    "                boards[i] = board\n",
    "print(day4_2(\"/Users/maarten/Downloads/day4.txt\"))"
   ]
  },
  {
   "cell_type": "code",
   "execution_count": 75,
   "id": "b34a9968",
   "metadata": {},
   "outputs": [
    {
     "name": "stdout",
     "output_type": "stream",
     "text": [
      "4512\n"
     ]
    }
   ],
   "source": [
    "def board_mark(board, number):\n",
    "    for l in board:\n",
    "        if number in l:\n",
    "            idx = l.index(number)\n",
    "            l[idx] = -10000\n",
    "    return board\n",
    "\n",
    "def score_board(board):\n",
    "    s = 0\n",
    "    for l in board:\n",
    "        s += sum(filter(lambda n: n > 0, l))\n",
    "    return s\n",
    "\n",
    "def val_board(board):\n",
    "    neg_row = filter(lambda l: all(map(lambda n: n<0, l)), board)\n",
    "    neg_col = filter(lambda l: all(map(lambda n: n<0, l)), list(map(list, zip(*board))))\n",
    "    return any(neg_row) or any(neg_col)\n",
    "                     \n",
    "def day4(file):\n",
    "    with open(file) as f:\n",
    "        draws = map(int, f.readline().split(\",\"))\n",
    "        \n",
    "        boards = []\n",
    "        board = None\n",
    "        for line in f:\n",
    "            line = line.rstrip()\n",
    "            if not line:\n",
    "                if board:\n",
    "                    boards.append(board)\n",
    "                board = []\n",
    "            else:\n",
    "                board.append(list(map(int, line.split())))\n",
    "        boards.append(board)\n",
    "        \n",
    "        for draw in draws:\n",
    "            for i, board in enumerate(boards):\n",
    "                board = board_mark(board, draw)\n",
    "                if val_board(board):\n",
    "                    s = score_board(board)\n",
    "                    return s*draw\n",
    "                boards[i] = board\n",
    "print(day4(\"/Users/maarten/Downloads/demo.txt\"))"
   ]
  },
  {
   "cell_type": "code",
   "execution_count": 8,
   "id": "d283f0be",
   "metadata": {},
   "outputs": [
    {
     "data": {
      "text/plain": [
       "43774224"
      ]
     },
     "execution_count": 8,
     "metadata": {},
     "output_type": "execute_result"
    }
   ],
   "source": [
    "# Day 3.2\n",
    "def day3(file):\n",
    "    lines = f(file)\n",
    "    bits = {}\n",
    "    \n",
    "    mkeep = lines\n",
    "    lkeep = lines\n",
    "    m = 0\n",
    "    l = 0\n",
    "    for i in range(len(lines[0])):\n",
    "        s = sum(map(lambda l: int(l[i]), mkeep))\n",
    "        if s >= len(mkeep)/2:\n",
    "            mkeep = list(filter(lambda l: l[i] == '1', mkeep))\n",
    "        else:\n",
    "            mkeep = list(filter(lambda l: l[i] == '0', mkeep))\n",
    "        if len(mkeep) == 1:\n",
    "            m = int(min(mkeep), 2)\n",
    "        s = sum(map(lambda l: int(l[i]), lkeep))\n",
    "        if s >= len(lkeep)/2 and s != len(lkeep):\n",
    "            lkeep = list(filter(lambda l: l[i] == '0', lkeep))\n",
    "        else:\n",
    "            lkeep = list(filter(lambda l: l[i] == '1', lkeep))\n",
    "        if len(lkeep) == 1:\n",
    "            l = int(min(lkeep), 2)\n",
    "    return m*l\n",
    "        \n",
    "day3(\"/Users/maarten/Downloads/report18.txt\".format(3))"
   ]
  },
  {
   "cell_type": "code",
   "execution_count": 4,
   "id": "1da59fb5",
   "metadata": {},
   "outputs": [
    {
     "data": {
      "text/plain": [
       "1307354"
      ]
     },
     "execution_count": 4,
     "metadata": {},
     "output_type": "execute_result"
    }
   ],
   "source": [
    "# Day 3.1\n",
    "def day3():\n",
    "    lines = f(\"/Users/maarten/Downloads/day{}.txt\".format(3))\n",
    "    bits = {}\n",
    "    n = 0\n",
    "\n",
    "    for line in lines:\n",
    "        for i,bit in enumerate(line):\n",
    "            if i in bits:\n",
    "                bits[i]+=int(line[i])\n",
    "            else:\n",
    "                bits[i]=int(line[i])\n",
    "        n+=1\n",
    "        \n",
    "    m = \"\"\n",
    "    l = \"\"\n",
    "\n",
    "    for k,v in sorted(bits.items(), key = lambda d: d[0]):\n",
    "        if v<n/2:\n",
    "            m += \"0\"\n",
    "            l += \"1\"\n",
    "        else:\n",
    "            m += \"1\"\n",
    "            l += \"0\"\n",
    "    return int(m, 2)*int(l,2)\n",
    "day3()"
   ]
  },
  {
   "cell_type": "code",
   "execution_count": 43,
   "id": "8947533c",
   "metadata": {},
   "outputs": [],
   "source": [
    "day2 = g(2)"
   ]
  },
  {
   "cell_type": "code",
   "execution_count": 44,
   "id": "227dfb6a",
   "metadata": {},
   "outputs": [
    {
     "data": {
      "text/plain": [
       "2272262"
      ]
     },
     "execution_count": 44,
     "metadata": {},
     "output_type": "execute_result"
    }
   ],
   "source": [
    "#Day 2\n",
    "deltas = {\"forward\": (1,0), \"down\": (0,1), \"up\": (0,-1)}\n",
    "pos = (0,0)\n",
    "for d in day2:\n",
    "    inst, amount = tuple(d.split(\" \"))\n",
    "    amount = int(amount)\n",
    "    delta = deltas[inst]\n",
    "    pos = (pos[0] + amount * delta[0], pos[1] + amount * delta[1])\n",
    "pos[0]*pos[1]"
   ]
  },
  {
   "cell_type": "code",
   "execution_count": 41,
   "id": "7a673ddb",
   "metadata": {},
   "outputs": [
    {
     "data": {
      "text/plain": [
       "2134882034"
      ]
     },
     "execution_count": 41,
     "metadata": {},
     "output_type": "execute_result"
    }
   ],
   "source": [
    "#Day 2.2\n",
    "aim = 0\n",
    "hpos = 0\n",
    "depth = 0\n",
    "for d in day2:\n",
    "    inst, amount = tuple(d.split(\" \"))\n",
    "    amount = int(amount)\n",
    "    if inst == \"down\":\n",
    "        aim += amount\n",
    "    if inst == \"up\":\n",
    "        aim -= amount\n",
    "    if inst == \"forward\":\n",
    "        hpos += amount\n",
    "        depth += aim * amount\n",
    "hpos * depth"
   ]
  },
  {
   "cell_type": "code",
   "execution_count": 31,
   "id": "26969b27",
   "metadata": {},
   "outputs": [],
   "source": [
    "day1 = g(1, f=int)"
   ]
  },
  {
   "cell_type": "code",
   "execution_count": 33,
   "id": "555039b2",
   "metadata": {},
   "outputs": [
    {
     "data": {
      "text/plain": [
       "1390"
      ]
     },
     "execution_count": 33,
     "metadata": {},
     "output_type": "execute_result"
    }
   ],
   "source": [
    "#Day 1\n",
    "prev = None\n",
    "cnt = 0\n",
    "for d in day1:\n",
    "    if prev and d > prev:\n",
    "        cnt += 1\n",
    "    prev = d\n",
    "cnt"
   ]
  },
  {
   "cell_type": "code",
   "execution_count": 35,
   "id": "80eb0faf",
   "metadata": {},
   "outputs": [
    {
     "data": {
      "text/plain": [
       "1457"
      ]
     },
     "execution_count": 35,
     "metadata": {},
     "output_type": "execute_result"
    }
   ],
   "source": [
    "#Day 1.2\n",
    "prev = None\n",
    "cnt = 0\n",
    "for i,d in enumerate(day1):\n",
    "    s = sum(day1[i:i+3])\n",
    "    if prev and s > prev:\n",
    "        cnt += 1\n",
    "    prev = s\n",
    "cnt"
   ]
  }
 ],
 "metadata": {
  "kernelspec": {
   "display_name": "Python 3 (ipykernel)",
   "language": "python",
   "name": "python3"
  },
  "language_info": {
   "codemirror_mode": {
    "name": "ipython",
    "version": 3
   },
   "file_extension": ".py",
   "mimetype": "text/x-python",
   "name": "python",
   "nbconvert_exporter": "python",
   "pygments_lexer": "ipython3",
   "version": "3.9.6"
  }
 },
 "nbformat": 4,
 "nbformat_minor": 5
}
