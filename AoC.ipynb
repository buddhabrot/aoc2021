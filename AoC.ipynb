{
 "cells": [
  {
   "cell_type": "code",
   "execution_count": 152,
   "id": "208902c9",
   "metadata": {},
   "outputs": [],
   "source": [
    "def f(loc, suff=None, f=None):\n",
    "    with open(loc) as file:\n",
    "        if f:\n",
    "            return list(map(lambda l: f(l.rstrip()), file.readlines()))\n",
    "        else:\n",
    "            return list(map(lambda l: l.rstrip(), file.readlines()))\n",
    "        \n",
    "def g(day, suff=None, f=None):\n",
    "    with open(\"/Users/maarten/Downloads/day{}.txt\".format(day)) as file:\n",
    "        if f:\n",
    "            return list(map(lambda l: f(l.rstrip()), file.readlines()))\n",
    "        else:\n",
    "            return list(map(lambda l: l.rstrip(), file.readlines()))\n",
    "def p(f):\n",
    "    return \"/Users/maarten/Downloads/{}.txt\".format(f)"
   ]
  },
  {
   "cell_type": "code",
   "execution_count": 478,
   "id": "f9525238",
   "metadata": {},
   "outputs": [
    {
     "name": "stdout",
     "output_type": "stream",
     "text": [
      "3892\n"
     ]
    },
    {
     "data": {
      "text/plain": [
       "4909"
      ]
     },
     "execution_count": 478,
     "metadata": {},
     "output_type": "execute_result"
    }
   ],
   "source": [
    "def add(p1, p2):\n",
    "    tree = [p1,p2]\n",
    "    paths = treeToPaths(tree, \"\", {})\n",
    "    reduce(paths)\n",
    "    tree = pathsToTree(paths)\n",
    "    return tree\n",
    "\n",
    "def reduce(paths):\n",
    "    if explode(paths):\n",
    "        reduce(paths)\n",
    "    if split(paths):\n",
    "        reduce(paths)\n",
    "\n",
    "def split(paths):\n",
    "    sPaths = sorted(paths.keys())\n",
    "    \n",
    "    for path in sPaths:\n",
    "        p = paths[path]\n",
    "        if p > 9:\n",
    "            paths[path + '0'] = int(p/2)\n",
    "            paths[path + '1'] = int(p/2 + 0.5)\n",
    "            del paths[path]\n",
    "            return True\n",
    "    return False\n",
    "            \n",
    "def explode(paths):\n",
    "    last = r = None\n",
    "    sPaths = sorted(paths.keys())\n",
    "    \n",
    "    for i,path in enumerate(sPaths):\n",
    "        parent = path[0:-1]\n",
    "        sibling = parent+'1'\n",
    "        if path[-1] == '0' and len(path) > 4 and sibling in paths:\n",
    "            # reduce this pair\n",
    "            l = paths[path]\n",
    "            r = paths[sibling]\n",
    "            if i > 0:\n",
    "                paths[sPaths[i-1]] += l\n",
    "            if i < len(sPaths) - 2:\n",
    "                paths[sPaths[i+2]] += r\n",
    "            del paths[sibling]\n",
    "            del paths[path]\n",
    "            paths[parent] = 0\n",
    "            return True\n",
    "    return False\n",
    "\n",
    "def mag(tree):\n",
    "    if type(tree) == int:\n",
    "        return tree\n",
    "\n",
    "    l,r = tuple(tree)\n",
    "    return 3*mag(l) + 2*mag(r)\n",
    "        \n",
    "def pathsToTree(paths, pattern=None):\n",
    "    if pattern is None:\n",
    "        return [pathsToTree(paths, '0'),pathsToTree(paths, '1')]\n",
    "    if pattern in paths:\n",
    "        return paths[pattern]\n",
    "    elif any(map(lambda path: path.startswith(pattern), paths)):\n",
    "        return [pathsToTree(paths, pattern+'0'),pathsToTree(paths, pattern+'1')]\n",
    "        \n",
    "def treeToPaths(tree, path = \"\", collect = {}):\n",
    "    l,r = tuple(tree)\n",
    "    if type(l) == int:\n",
    "        collect[path + \"0\"] = l\n",
    "    else:\n",
    "        treeToPaths(l, path + \"0\", collect)        \n",
    "    if type(r) == int:\n",
    "        collect[path + \"1\"] = r\n",
    "    else:\n",
    "        treeToPaths(r, path + \"1\", collect)\n",
    "    return collect\n",
    "    \n",
    "def parse(l):\n",
    "    return eval(l)\n",
    "\n",
    "def day18(file):\n",
    "    fish = []\n",
    "    with open(file) as f:\n",
    "        for l in f:\n",
    "            f = parse(l.rstrip())\n",
    "            if f:\n",
    "                fish.append(f)\n",
    "    lf = fish[0]\n",
    "    \n",
    "    for nf in fish[1:]:\n",
    "        lf = add(lf, nf)\n",
    "    return mag(lf)\n",
    "\n",
    "def day18b(file):\n",
    "    fish = []\n",
    "    with open(file) as f:\n",
    "        for l in f:\n",
    "            f = parse(l.rstrip())\n",
    "            if f:\n",
    "                fish.append(f)\n",
    "\n",
    "    sums = []\n",
    "    for lf in fish:\n",
    "        for rf in fish:\n",
    "            if lf != rf:\n",
    "                tree = add(lf,rf)\n",
    "                sums.append(mag(tree))\n",
    "    return sorted(sums)[-1]\n",
    "\n",
    "print(day18(p(\"day18\")))\n",
    "day18b(p(\"day18\"))"
   ]
  },
  {
   "cell_type": "code",
   "execution_count": 310,
   "id": "fde4fd32",
   "metadata": {},
   "outputs": [
    {
     "name": "stdout",
     "output_type": "stream",
     "text": [
      "45\n"
     ]
    },
    {
     "data": {
      "text/plain": [
       "5844"
      ]
     },
     "execution_count": 310,
     "metadata": {},
     "output_type": "execute_result"
    }
   ],
   "source": [
    "import math\n",
    "\n",
    "def day17(file):\n",
    "    with open(file) as f:\n",
    "        l = f.readline().lstrip(\"target area: \").rstrip()\n",
    "        xrange,yrange = tuple(map(lambda p: tuple(map(int, p.split(\"=\")[1].split(\"..\"))), l.split(\", \")))\n",
    "    xmin,xmax = min(xrange), max(xrange)\n",
    "    ymin,ymax = min(yrange), max(yrange)\n",
    "\n",
    "    return int(abs(ymin*(ymin+1)/2))\n",
    "\n",
    "def day17b(file):\n",
    "    with open(file) as f:\n",
    "        l = f.readline().lstrip(\"target area: \").rstrip()\n",
    "        xrange,yrange = tuple(map(lambda p: tuple(map(int, p.split(\"=\")[1].split(\"..\"))), l.split(\", \")))\n",
    "    xmin,xmax = min(xrange), max(xrange)\n",
    "    ymin,ymax = min(yrange), max(yrange)\n",
    "\n",
    "    xmina,xmaxa = min(map(abs,xrange)), max(map(abs,xrange))\n",
    "    ymina,ymaxa = min(map(abs,yrange)), max(map(abs,yrange))\n",
    "\n",
    "    # create generators of positions for initial velocities\n",
    "    # min/max amount of steps\n",
    "    tmin, tmax = min(xmina,ymina),min(xmaxa,ymaxa)\n",
    "    vymax = None\n",
    "    keep = 0\n",
    "    \n",
    "    velocities = set([])\n",
    "    \n",
    "    for x in range(xmin, xmax+1):\n",
    "        for y in range(ymin, ymax+1):\n",
    "            vxmin = 0 if x == 0 else 1\n",
    "            for vx0 in range(vxmin, xmaxa+1):\n",
    "                # time it will take to reach this position with vx0\n",
    "                # if not integer, continue\n",
    "                maxdist = int(vx0*(vx0+1)/2)\n",
    "                if x > maxdist:\n",
    "                    continue # we won't make it\n",
    "                t = 0\n",
    "                vx = vx0\n",
    "                px = 0\n",
    "                while True:\n",
    "                    t += 1\n",
    "                    px += vx\n",
    "                    vx += -1 if vx > 0 else 1 if vx < 0 else 0\n",
    "                    if px == x:\n",
    "                        break\n",
    "                    if px > x:\n",
    "                        t = None\n",
    "                        break\n",
    "                    if vx == 0 and px != x:\n",
    "                        t = None\n",
    "                        break\n",
    "                if not t:\n",
    "                    continue\n",
    "                # velocity for which y can be reached in t. if vx = 0 by then, many choices..\n",
    "                if vx == 0:\n",
    "                    trange = range(t, 4*t*t)\n",
    "                else:\n",
    "                    trange = range(t,t+1)\n",
    "                for t in trange:\n",
    "                    vy0 = y/t + (t-1)/2 \n",
    "                    if int(vy0) != vy0:\n",
    "                        continue\n",
    "                    velocities.add((vx0,vy0))\n",
    "                    \n",
    "                    \n",
    "    check = set([])            \n",
    "    with open(p(\"out\")) as f:\n",
    "        for line in f:\n",
    "            check.update(map(lambda l: tuple(map(int, l.split(','))), line.rstrip().split()))\n",
    "    #print(check)\n",
    "    #print(check.difference(velocities))\n",
    "    return len(velocities)\n",
    "print(day17(p(\"demo\")))\n",
    "day17b(p(\"day17\"))"
   ]
  },
  {
   "cell_type": "code",
   "execution_count": 175,
   "id": "cec4b862",
   "metadata": {},
   "outputs": [
    {
     "name": "stdout",
     "output_type": "stream",
     "text": [
      "1\n",
      "843\n",
      "5390807940351\n"
     ]
    }
   ],
   "source": [
    "def packet(bit):\n",
    "    version = int(bit[0:3],2)\n",
    "    typeID = int(bit[3:6],2)\n",
    "    if typeID == 4:\n",
    "        offset = 6\n",
    "        bs = \"\"\n",
    "        while True:\n",
    "            msb = bit[offset:offset+5]\n",
    "            bs += msb[1:]\n",
    "            if msb[0] == '0':\n",
    "                break\n",
    "            offset += 5\n",
    "        return (offset+5, version, 'number', typeID, int(bs, 2))\n",
    "    else:\n",
    "        subPackets = []\n",
    "        offset = 6\n",
    "        if bit[6] == '0':\n",
    "            term = lambda packets: sum(map(lambda l: l[0], packets)) == int(bit[7:22],2)\n",
    "            offset = 22\n",
    "        else:\n",
    "            term = lambda packets: len(packets) == int(bit[7:18],2)\n",
    "            offset = 18\n",
    "        while True:\n",
    "            if term(subPackets):\n",
    "                break\n",
    "            subPacket = packet(bit[offset:])\n",
    "            subPackets.append(subPacket)\n",
    "            offset += subPacket[0]\n",
    "        return (offset, version, 'op', typeID, subPackets)\n",
    "    return None\n",
    "\n",
    "def hexToPacket(hexadecimal):\n",
    "    bit = \"\".join(map(lambda c: str(bin(int(c, 16))[2:]).zfill(4), list(hexadecimal)))\n",
    "    p = packet(bit)\n",
    "    return p\n",
    "\n",
    "def day16(file):\n",
    "    with open(file) as f:\n",
    "        total = 0\n",
    "        for line in f:\n",
    "            packet = hexToPacket(line.rstrip())\n",
    "            total += getTotalVersion(packet)\n",
    "    return total\n",
    "\n",
    "def day16b(file):\n",
    "    with open(file) as f:\n",
    "        total = 0\n",
    "        for line in f:\n",
    "            packet = hexToPacket(line.rstrip())\n",
    "            total += getValue(packet)\n",
    "    return total\n",
    "\n",
    "\n",
    "def getTotalVersion(packet):\n",
    "    if type(packet[4]) == int:\n",
    "        return packet[1]\n",
    "    else:\n",
    "        return packet[1] + sum(map(getTotalVersion, packet[4]))\n",
    "    \n",
    "def getValue(packet):\n",
    "    if packet[3] == 4:\n",
    "        return packet[4]\n",
    "    values = list(map(getValue, packet[4]))\n",
    "    if packet[3] == 0:\n",
    "        return sum(values)\n",
    "    if packet[3] == 1:\n",
    "        p = 1\n",
    "        for v in values: # could use reduce obviously\n",
    "            p *= v\n",
    "        return p\n",
    "    if packet[3] == 2:\n",
    "        return min(values)\n",
    "    if packet[3] == 3:\n",
    "        return max(values)\n",
    "    if packet[3] == 5:\n",
    "        return 1 if values[0] > values[1] else 0\n",
    "    if packet[3] == 6:\n",
    "        return 1 if values[0] < values[1] else 0\n",
    "    if packet[3] == 7:\n",
    "        return 1 if values[0] == values[1] else 0\n",
    "    \n",
    "print(day16(p(\"day16\")))\n",
    "print(day16b(p(\"day16\")))"
   ]
  },
  {
   "cell_type": "code",
   "execution_count": 141,
   "id": "b21d24f3",
   "metadata": {},
   "outputs": [
    {
     "name": "stdout",
     "output_type": "stream",
     "text": [
      "40\n",
      "3012\n"
     ]
    }
   ],
   "source": [
    "def neighbours(row,col,m,bounds):\n",
    "    return [(max(0,row-1), col), (min(bounds[0],row+1),col), (row, max(0,col-1)), (row, min(bounds[1],col+1))]\n",
    "\n",
    "def value(path, current, m, gridFunc):\n",
    "    total = 0\n",
    "    while current != (0, 0):\n",
    "        if gridFunc:\n",
    "            val = gridFunc(m, current)\n",
    "        else:\n",
    "            val = m[current[0]][current[1]]\n",
    "        total += val\n",
    "        current = path[current]\n",
    "    return total\n",
    "\n",
    "def day15(file, targetFunc = None, gridFunc = None):\n",
    "    grid = []\n",
    "    with open(file) as f:\n",
    "        grid = list(map(lambda l:list(map(int,list(l.rstrip()))), f))\n",
    "    start = (0,0)\n",
    "    if targetFunc:\n",
    "        target = targetFunc(grid)\n",
    "    else:\n",
    "        target = (len(grid)-1, len(grid[0])-1)\n",
    "    visited = set([start])\n",
    "    g = {start: 0}\n",
    "    path = {}\n",
    "    while len(visited) != 0:\n",
    "        current = min(visited, key=lambda n: g[n] if n in g else float('inf'))\n",
    "        if current == target:\n",
    "            return value(path, current, grid, gridFunc)\n",
    "        visited.remove(current)\n",
    "        for neighbour in neighbours(*current, grid, target):\n",
    "            if neighbour == current:\n",
    "                continue\n",
    "            if gridFunc:\n",
    "                val = gridFunc(grid, neighbour)\n",
    "                #print(val)\n",
    "            else:\n",
    "                val = grid[neighbour[0]][neighbour[1]]\n",
    "            tryScore = g[current] + val\n",
    "            if neighbour not in g or tryScore < g[neighbour]:\n",
    "                # This is a new best path\n",
    "                path[neighbour] = current\n",
    "                g[neighbour] = tryScore\n",
    "                visited.add(neighbour)\n",
    "    return None\n",
    "\n",
    "def extendedGrid(grid, pos):\n",
    "    rn = len(grid)\n",
    "    cn = len(grid[0])\n",
    "    rowFac = int(pos[0]/rn)\n",
    "    colFac = int(pos[1]/cn)\n",
    "    val = grid[pos[0]%rn][pos[1]%cn]\n",
    "    nval = (rowFac + colFac) + val\n",
    "    if nval > 9:\n",
    "        nval = nval % 9\n",
    "    return nval\n",
    "\n",
    "def day15b(file):\n",
    "    return day15(file, lambda grid: (len(grid)*5-1, len(grid[0])*5-1), extendedGrid)\n",
    "    \n",
    "print(day15(p(\"demo\")))\n",
    "print(day15b(p(\"day15\")))"
   ]
  },
  {
   "cell_type": "code",
   "execution_count": 47,
   "id": "266c5751",
   "metadata": {},
   "outputs": [
    {
     "name": "stdout",
     "output_type": "stream",
     "text": [
      "2712\n",
      "8336623059567\n"
     ]
    }
   ],
   "source": [
    "def day14b(file):\n",
    "    insertions = {}\n",
    "    with open(file) as f:\n",
    "        polymer = f.readline().rstrip()\n",
    "        f.readline()\n",
    "        insertions = {k:v for k,v in map(lambda l: tuple(l.rstrip().split(' -> ')), f)}\n",
    "    pairs = {}\n",
    "    for p in [polymer[n:n+2] for n in range(len(polymer)-1)]:\n",
    "        pairs[p] = pairs[p] + 1 if p in pairs else 1\n",
    "    for _ in range(40):\n",
    "        s = \"\"\n",
    "        for p,occ in pairs.copy().items():\n",
    "            if p in insertions:\n",
    "                # this creates two new pairs\n",
    "                c = insertions[p]\n",
    "                p1,p2 = p[0] + c, c + p[1]\n",
    "                pairs[p] -= occ # remove all prev occurences\n",
    "                pairs[p1] = pairs[p1] + occ if p1 in pairs else occ\n",
    "                pairs[p2] = pairs[p2] + occ if p2 in pairs else occ\n",
    "    occ = {}\n",
    "    occ[polymer[0]] = 1\n",
    "    for k,v in pairs.items():\n",
    "        occ[k[1]] = occ[k[1]] + v if k[1] in occ else v\n",
    "    return int(max(occ.values()) - min(occ.values()))\n",
    "\n",
    "def day14(file):\n",
    "    insertions = []\n",
    "    with open(file) as f:\n",
    "        polymer = f.readline().rstrip()\n",
    "        for line in f:\n",
    "            if len(line.rstrip()) > 0:\n",
    "                insertions.append(tuple(line.rstrip().split(' -> ')))\n",
    "    for _ in range(10):\n",
    "        mut = {}\n",
    "        for k,r in insertions:\n",
    "            appearances = [n for n in range(len(polymer)) if polymer[n:n+2] == k]\n",
    "            if len(appearances) > 0:\n",
    "                for a in appearances:\n",
    "                    mut[a] = r\n",
    "        s = \"\"\n",
    "        for i,c in enumerate(polymer):\n",
    "            s += c\n",
    "            if i in mut:\n",
    "                s += mut[i]\n",
    "        polymer = s\n",
    "    c = list(map(lambda c: (polymer.count(c), c), set(polymer)))\n",
    "    return max(c, key=lambda x: x[0])[0] - min(c, key=lambda x: x[0])[0]\n",
    "\n",
    "print(day14(p(\"day14\")))\n",
    "print(day14b(p(\"day14\")))"
   ]
  },
  {
   "cell_type": "code",
   "execution_count": 432,
   "id": "10c2473a",
   "metadata": {},
   "outputs": [
    {
     "name": "stdout",
     "output_type": "stream",
     "text": [
      "###..#....#..#...##.###..###...##...##.\n",
      "#..#.#....#.#.....#.#..#.#..#.#..#.#..#\n",
      "###..#....##......#.#..#.###..#..#.#...\n",
      "#..#.#....#.#.....#.###..#..#.####.#.##\n",
      "#..#.#....#.#..#..#.#.#..#..#.#..#.#..#\n",
      "###..####.#..#..##..#..#.###..#..#..###\n"
     ]
    }
   ],
   "source": [
    "def dotsAndFolds(file):\n",
    "    dots = set([])\n",
    "    folds = []\n",
    "    with open(file) as f:\n",
    "        inFolds = False\n",
    "        for line in f:\n",
    "            if len(line.rstrip()) == 0:\n",
    "                inFolds = True\n",
    "                continue\n",
    "            if inFolds:\n",
    "                ins,pos = tuple(line.rstrip().split(\"=\"))\n",
    "                folds.append((ins[-1], int(pos)))\n",
    "            else:\n",
    "                dots.add(tuple(map(int, line.rstrip().split(\",\"))))\n",
    "    return (dots,folds)\n",
    "\n",
    "def fold(fold, dots):\n",
    "    if fold[0] == \"y\":\n",
    "        select = lambda d: d[1] > fold[1]\n",
    "        transform = lambda d: (d[0], 2*fold[1]-d[1])\n",
    "    else:\n",
    "        select = lambda d: d[0] > fold[1]\n",
    "        transform = lambda d: (2*fold[1]-d[0], d[1])\n",
    "    newdots = dots.copy()\n",
    "    for d in filter(select, dots):\n",
    "        newdots.remove(d)\n",
    "        newdots.add(transform(d))\n",
    "    return newdots\n",
    "\n",
    "def day13(file):\n",
    "    (dots, folds) = dotsAndFolds(file)\n",
    "    dots = fold(folds[0], dots)\n",
    "    return len(dots)\n",
    "\n",
    "def day13b(file):\n",
    "    (dots, folds) = dotsAndFolds(file)\n",
    "    for f in folds:\n",
    "        dots = fold(f, dots)\n",
    "    x0,x1 = min(dots, key = lambda t: t[0])[0],max(dots, key = lambda t: t[0])[0]\n",
    "    y0,y1 = min(dots, key = lambda t: t[1])[1],max(dots, key = lambda t: t[1])[1]\n",
    "    for y in range(y0,y1+1):\n",
    "        s = \"\"\n",
    "        for x in range(x0,x1+1):\n",
    "            if (x,y) in dots: \n",
    "                s += \"#\"\n",
    "            else:\n",
    "                s += \".\"\n",
    "        print(s)\n",
    "\n",
    "day13b(p(\"day13\"))"
   ]
  },
  {
   "cell_type": "code",
   "execution_count": 407,
   "id": "f6176a8b",
   "metadata": {},
   "outputs": [
    {
     "data": {
      "text/plain": [
       "96528"
      ]
     },
     "execution_count": 407,
     "metadata": {},
     "output_type": "execute_result"
    }
   ],
   "source": [
    "def isSmall(cave):\n",
    "    return cave.lower() == cave\n",
    "\n",
    "def walksb(s, nodes, path = \"\", visited = set([])):\n",
    "    w = set([])\n",
    "    caves = nodes[s]\n",
    "    total = 0\n",
    "    path = path + s\n",
    "    for cave in caves:\n",
    "        isDouble = False\n",
    "        if isSmall(cave) and cave in visited: # small cave constraint\n",
    "            if \"double\" in visited or cave == \"start\" or cave == \"end\":\n",
    "                continue \n",
    "            else:\n",
    "                isDouble = True\n",
    "        if (path + cave) in w: # already captured this path\n",
    "            continue\n",
    "        if cave == \"end\":\n",
    "            total += 1\n",
    "        else:\n",
    "            lvisited = visited.copy()\n",
    "            lvisited.add(cave)\n",
    "            if isDouble:\n",
    "                lvisited.add(\"double\")\n",
    "            lpath = path + cave\n",
    "            total += walksb(cave, nodes, lpath, lvisited)\n",
    "    return total\n",
    "            \n",
    "            \n",
    "def day12b(file):\n",
    "    nodes = {}\n",
    "    with open(file) as f:\n",
    "        for line in f:\n",
    "            e1,e2 = tuple(line.rstrip().split(\"-\"))\n",
    "            if e1 in nodes:\n",
    "                nodes[e1].add(e2)\n",
    "            else:\n",
    "                nodes[e1]=set([e2])\n",
    "            if e2 in nodes:\n",
    "                nodes[e2].add(e1)\n",
    "            else:\n",
    "                nodes[e2]=set([e1])\n",
    "    s = \"start\"\n",
    "    w = walksb(s, nodes, \"\", set([\"start\"]))\n",
    "    return w\n",
    "\n",
    "day12b(p(\"day12\"))\n",
    "       \n",
    "            "
   ]
  },
  {
   "cell_type": "code",
   "execution_count": 402,
   "id": "6a65336c",
   "metadata": {},
   "outputs": [
    {
     "data": {
      "text/plain": [
       "3450"
      ]
     },
     "execution_count": 402,
     "metadata": {},
     "output_type": "execute_result"
    }
   ],
   "source": [
    "def isSmall(cave):\n",
    "    return cave.lower() == cave\n",
    "\n",
    "def walks(s, nodes, path = \"\", visited = set([])):\n",
    "    w = set([])\n",
    "    caves = nodes[s]\n",
    "    total = 0\n",
    "    path = path + s\n",
    "    for cave in caves:\n",
    "        if isSmall(cave) and cave in visited: # small cave constraint\n",
    "            continue \n",
    "        if (path + cave) in w: # already captured this path\n",
    "            continue\n",
    "        if cave == \"end\":\n",
    "            total += 1\n",
    "        else:\n",
    "            lvisited = visited.copy()\n",
    "            lvisited.add(cave)\n",
    "            lpath = path + cave\n",
    "            total += walks(cave, nodes, lpath, lvisited)\n",
    "    return total\n",
    "            \n",
    "            \n",
    "def day12(file):\n",
    "    nodes = {}\n",
    "    with open(file) as f:\n",
    "        for line in f:\n",
    "            e1,e2 = tuple(line.rstrip().split(\"-\"))\n",
    "            if e1 in nodes:\n",
    "                nodes[e1].add(e2)\n",
    "            else:\n",
    "                nodes[e1]=set([e2])\n",
    "            if e2 in nodes:\n",
    "                nodes[e2].add(e1)\n",
    "            else:\n",
    "                nodes[e2]=set([e1])\n",
    "    s = \"start\"\n",
    "    w = walks(s, nodes, \"\", set([\"start\"]))\n",
    "    return w\n",
    "\n",
    "day12(p(\"day12\"))\n",
    "       \n",
    "            "
   ]
  },
  {
   "cell_type": "code",
   "execution_count": 377,
   "id": "15e9b75a",
   "metadata": {},
   "outputs": [
    {
     "data": {
      "text/plain": [
       "471"
      ]
     },
     "execution_count": 377,
     "metadata": {},
     "output_type": "execute_result"
    }
   ],
   "source": [
    "def neighbours(pos, m):\n",
    "    neighbours = []\n",
    "    for drow in range(-1, 2):\n",
    "        for dcol in range(-1, 2):\n",
    "            if not (drow == 0 and dcol == 0) and drow+pos[0] >= 0 and drow+pos[0]<len(m[0]) and dcol+pos[1] >= 0 and dcol+pos[1]<len(m):\n",
    "                neighbours.append((pos[0]+drow, pos[1]+dcol))\n",
    "    return neighbours\n",
    "\n",
    "def out(m):\n",
    "    print(\"\\n\".join(map(lambda r: \"\".join(map(str, r)), m)))\n",
    "\n",
    "def day11(file):\n",
    "    m = []\n",
    "    with open(file) as f:\n",
    "        for line in f:\n",
    "            m.append(list(map(int, list(line.rstrip()))))\n",
    "    flashes = 0\n",
    "\n",
    "    for _ in range(100):\n",
    "        flashed = set([])\n",
    "        flashing = set([])\n",
    "        for row in range(len(m)):\n",
    "            for col in range(len(m[row])):\n",
    "                m[row][col] += 1\n",
    "                if m[row][col] > 9:\n",
    "                    flashing.add((row,col))\n",
    "        while len(flashing) > 0:\n",
    "            (row,col) = flashing.pop()\n",
    "            n = neighbours((row,col), m)\n",
    "            for nrow,ncol in n:\n",
    "                m[nrow][ncol] += 1\n",
    "                if m[nrow][ncol] > 9 and (nrow,ncol) not in flashed and (nrow,ncol) not in flashing:\n",
    "                    flashing.add((nrow,ncol))\n",
    "            flashed.add((row,col))\n",
    "        for row,col in flashed:\n",
    "            m[row][col] = 0\n",
    "            flashes += 1\n",
    "    return flashes\n",
    "day11(p(\"day11\"))\n",
    "\n",
    "\n",
    "def day11b(file):\n",
    "    m = []\n",
    "    with open(file) as f:\n",
    "        for line in f:\n",
    "            m.append(list(map(int, list(line.rstrip()))))\n",
    "    flashes = 0\n",
    "    steps = 0\n",
    "    while True:\n",
    "        flashed = set([])\n",
    "        flashing = set([])\n",
    "        for row in range(len(m)):\n",
    "            for col in range(len(m[row])):\n",
    "                m[row][col] += 1\n",
    "                if m[row][col] > 9:\n",
    "                    flashing.add((row,col))\n",
    "        steps += 1            \n",
    "        while len(flashing) > 0:\n",
    "            (row,col) = flashing.pop()\n",
    "            n = neighbours((row,col), m)\n",
    "            for nrow,ncol in n:\n",
    "                m[nrow][ncol] += 1\n",
    "                if m[nrow][ncol] > 9 and (nrow,ncol) not in flashed and (nrow,ncol) not in flashing:\n",
    "                    flashing.add((nrow,ncol))\n",
    "            flashed.add((row,col))\n",
    "        if len(flashed) == len(m)*len(m[0]) or steps > 1000:\n",
    "            return steps\n",
    "        for row,col in flashed:\n",
    "            m[row][col] = 0\n",
    "            flashes += 1\n",
    "day11b(p(\"day11\"))"
   ]
  },
  {
   "cell_type": "code",
   "execution_count": 335,
   "id": "4d9f162e",
   "metadata": {},
   "outputs": [
    {
     "data": {
      "text/plain": [
       "4874"
      ]
     },
     "execution_count": 335,
     "metadata": {},
     "output_type": "execute_result"
    }
   ],
   "source": [
    "def day10b(file):\n",
    "    terms = {')': 1, ']': 2, '}': 3, '>': 4}\n",
    "    match = {')': '(', ']': '[', '}': '{', '>': '<'}\n",
    "    inv = {k:v for v,k in match.items()}\n",
    "    \n",
    "    with open(file) as f:\n",
    "        scores = []\n",
    "        for line in f:\n",
    "            stack = []\n",
    "            for c in line.rstrip():\n",
    "                if c in terms:\n",
    "                    if stack[-1] == match[c]:\n",
    "                        stack.pop()\n",
    "                    else:\n",
    "                        break # illegal\n",
    "                else:\n",
    "                    stack.append(c)\n",
    "            else:\n",
    "                if(len(stack)) == 0:\n",
    "                    continue\n",
    "                # legal line\n",
    "                score = 0\n",
    "                for c in stack[-1::-1]:\n",
    "                    score *= 5\n",
    "                    score += terms[inv[c]]\n",
    "                scores.append(score)\n",
    "        scores = sorted(scores)\n",
    "        return scores[int((len(scores))/2)]\n",
    "day10b(p(\"subsystem14\"))"
   ]
  },
  {
   "cell_type": "code",
   "execution_count": 336,
   "id": "bdf77ba2",
   "metadata": {},
   "outputs": [
    {
     "data": {
      "text/plain": [
       "394647"
      ]
     },
     "execution_count": 336,
     "metadata": {},
     "output_type": "execute_result"
    }
   ],
   "source": [
    "def day10(file):\n",
    "    scores = {')': 3, ']': 57, '}': 1197, '>': 25137}\n",
    "    match = {')': '(', ']': '[', '}': '{', '>': '<'}\n",
    "\n",
    "    with open(file) as f:\n",
    "        illegal = 0\n",
    "        for line in f:\n",
    "            stack = []\n",
    "            for c in line:\n",
    "                if c in scores:\n",
    "                    if stack[-1] == match[c]:\n",
    "                        stack.pop()\n",
    "                    else:\n",
    "                        illegal += scores[c]\n",
    "                        break\n",
    "                else:\n",
    "                    stack.append(c)\n",
    "        return illegal\n",
    "day10(p(\"day10\"))"
   ]
  },
  {
   "cell_type": "code",
   "execution_count": 337,
   "id": "86df1b48",
   "metadata": {},
   "outputs": [
    {
     "data": {
      "text/plain": [
       "987840"
      ]
     },
     "execution_count": 337,
     "metadata": {},
     "output_type": "execute_result"
    }
   ],
   "source": [
    "def basin(start, m):\n",
    "    result = set([start])\n",
    "    while True:\n",
    "        n = set([])\n",
    "        for (row,col) in result:\n",
    "            n.update(neighbours(row,col,m))\n",
    "        n = n.difference(result)\n",
    "        n = set([l for l in n if m[l[0]][l[1]] != 9])\n",
    "        if len(n) == 0:\n",
    "            return result\n",
    "        newresult = result.union(n)\n",
    "        if len(newresult) == len(result):\n",
    "            return result\n",
    "        result = newresult\n",
    "    return result\n",
    "\n",
    "def neighbours(row,col,m):\n",
    "    return [(max(0,row-1), col), (min(len(m)-1,row+1),col), (row, max(0,col-1)), (row, min(len(m[0])-1,col+1))]\n",
    "\n",
    "def day92(file):\n",
    "    m = []\n",
    "    with open(file) as f:\n",
    "        for line in f:\n",
    "            m.append(list(map(int, list(line.rstrip()))))\n",
    "    minima = []\n",
    "    for row in range(len(m)):\n",
    "        for col in range(len(m[0])):\n",
    "            p = m[row][col]\n",
    "            localMinimum = True\n",
    "            for n in neighbours(row,col,m):\n",
    "                nrow = n[0]\n",
    "                ncol = n[1]\n",
    "                if nrow == row and ncol == col:\n",
    "                    continue\n",
    "                if m[nrow][ncol]<=p:\n",
    "                    localMinimum = False\n",
    "                    break\n",
    "            if (localMinimum):\n",
    "                minima.append((row,col))\n",
    "    basins = []\n",
    "    for (row,col) in minima:\n",
    "        # flood fill up to \n",
    "        basins.append(len(basin((row,col), m)))\n",
    "    \n",
    "    result = 1\n",
    "    for n in sorted(basins, reverse=True)[0:3]:\n",
    "        result *= n\n",
    "    return result\n",
    "day92(p(\"day9\"))"
   ]
  },
  {
   "cell_type": "code",
   "execution_count": 338,
   "id": "e7ef8baa",
   "metadata": {},
   "outputs": [
    {
     "data": {
      "text/plain": [
       "1034"
      ]
     },
     "execution_count": 338,
     "metadata": {},
     "output_type": "execute_result"
    }
   ],
   "source": [
    "def day9(file):\n",
    "    m = []\n",
    "    with open(file) as f:\n",
    "        for line in f:\n",
    "            m.append(list(map(int, list(line.rstrip()))))\n",
    "    risk = 0\n",
    "    for row in range(len(m)):\n",
    "        for col in range(len(m[0])):\n",
    "            p = m[row][col]\n",
    "            localMinimum = True\n",
    "            for n in [(max(0,row-1), col), (min(len(m)-1,row+1),col), (row, max(0,col-1)), (row, min(len(m[0])-1,col+1))]:\n",
    "                nrow = n[0]\n",
    "                ncol = n[1]\n",
    "                if nrow == row and ncol == col:\n",
    "                    continue\n",
    "                if m[nrow][ncol]<=p:\n",
    "                    localMinimum = False\n",
    "                    break\n",
    "            if (localMinimum):\n",
    "                risk += p+1\n",
    "    return risk\n",
    "day9(p(\"caves06\"))"
   ]
  },
  {
   "cell_type": "code",
   "execution_count": 339,
   "id": "5cde66a5",
   "metadata": {},
   "outputs": [
    {
     "data": {
      "text/plain": [
       "1055164"
      ]
     },
     "execution_count": 339,
     "metadata": {},
     "output_type": "execute_result"
    }
   ],
   "source": [
    "def day82(file):\n",
    "    easy = {1: \"cf\", 4: \"bcdf\", 7: \"acf\", 8: \"abcdefg\"}\n",
    "    hard = {0: \"abcefg\", 2: \"acdeg\", 3: \"acdfg\", 5: \"abdfg\", 6: \"abdefg\", 9: \"abcdfg\"}\n",
    "    with open(file) as f:\n",
    "        total = 0\n",
    "        for line in f:\n",
    "            ip,op = tuple(line.rstrip().split(' | '))\n",
    "            inputs = ip.split(' ')\n",
    "            outputs = op.split(' ')\n",
    "            mutations = {i:set(list(\"abcdefg\")) for i in \"abcdefg\"}\n",
    "            for inp in inputs:\n",
    "                for d,v in easy.items():\n",
    "                    if len(inp) == len(v):\n",
    "                        # found a match: add pattern\n",
    "                        for c in v:\n",
    "                            mutations[c] = mutations[c].intersection(set(list(inp)))\n",
    "                if len(inp) == 5:\n",
    "                    mutations['a'] = mutations['a'].intersection(set(list(inp)))\n",
    "                    mutations['d'] = mutations['d'].intersection(set(list(inp)))\n",
    "                    mutations['g'] = mutations['g'].intersection(set(list(inp)))\n",
    "                if len(inp) == 6:\n",
    "                    mutations['a'] = mutations['a'].intersection(set(list(inp)))\n",
    "                    mutations['b'] = mutations['b'].intersection(set(list(inp)))\n",
    "                    mutations['f'] = mutations['f'].intersection(set(list(inp)))\n",
    "                    mutations['g'] = mutations['g'].intersection(set(list(inp)))\n",
    "            while not all(map(lambda s: len(s) == 1, mutations.values())):\n",
    "                for k, v in filter(lambda s: len(s[1]) == 1, mutations.items()):\n",
    "                    for mk, mv in mutations.items():\n",
    "                        if mutations[mk] != v:\n",
    "                            mutations[mk] = mutations[mk].difference(v)\n",
    "            inv_map = {v: k for k, v in list(hard.items()) + list(easy.items())}\n",
    "            inv_mut = {list(v)[0]: k for k, v in mutations.items()}\n",
    "            out_num = \"\"\n",
    "            for out in outputs:\n",
    "                s = \"\"\n",
    "                for k in out:\n",
    "                    s += inv_mut[k]\n",
    "                out_num += str(inv_map[\"\".join(sorted(s))])\n",
    "            total += int(out_num)\n",
    "    return total\n",
    "day82(p(\"day8\"))"
   ]
  },
  {
   "cell_type": "code",
   "execution_count": 340,
   "id": "bfa91eaa",
   "metadata": {},
   "outputs": [
    {
     "data": {
      "text/plain": [
       "495"
      ]
     },
     "execution_count": 340,
     "metadata": {},
     "output_type": "execute_result"
    }
   ],
   "source": [
    "def day8(file):\n",
    "    digits = {1: \"cf\", 4: \"bcdf\", 7: \"acf\", 8: \"abcdefg\"}\n",
    "    with open(file) as f:\n",
    "        total = 0\n",
    "        for line in f:\n",
    "            ip,op = tuple(line.rstrip().split(' | '))\n",
    "            inputs = ip.split(' ')\n",
    "            outputs = op.split(' ')\n",
    "            for inp in inputs:\n",
    "                for d,v in digits.items():\n",
    "                    if len(inp) == len(v):\n",
    "                        for out in outputs:\n",
    "                            if len(out) == len(v):\n",
    "                                total += 1\n",
    "    return total\n",
    "day8(p(\"day8\"))"
   ]
  },
  {
   "cell_type": "code",
   "execution_count": 341,
   "id": "2d357350",
   "metadata": {},
   "outputs": [
    {
     "data": {
      "text/plain": [
       "100727924"
      ]
     },
     "execution_count": 341,
     "metadata": {},
     "output_type": "execute_result"
    }
   ],
   "source": [
    "def day72(file):\n",
    "    with open(file) as f:\n",
    "        crabs = list(map(int, f.readline().rstrip().split(',')))\n",
    "    m = None\n",
    "    pos = None\n",
    "    for i in range(max(crabs)):\n",
    "        delta = sum(map(lambda c: abs(c-i)*(abs(c-i)+1)/2, crabs))\n",
    "        if m is None or delta < m:\n",
    "            m = delta\n",
    "            pos = i\n",
    "    return int(m)\n",
    "day72(p(\"day7\"))"
   ]
  },
  {
   "cell_type": "code",
   "execution_count": 342,
   "id": "2ce9573d",
   "metadata": {},
   "outputs": [
    {
     "data": {
      "text/plain": [
       "359648"
      ]
     },
     "execution_count": 342,
     "metadata": {},
     "output_type": "execute_result"
    }
   ],
   "source": [
    "def day7(file):\n",
    "    with open(file) as f:\n",
    "        crabs = list(map(int, f.readline().rstrip().split(',')))\n",
    "    m = None\n",
    "    pos = None\n",
    "    for i in range(max(crabs)):\n",
    "        delta = sum(map(lambda c: abs(c-i), crabs))\n",
    "        if m is None or delta < m:\n",
    "            m = delta\n",
    "            pos = i\n",
    "    return m\n",
    "day7(p(\"day7\"))"
   ]
  },
  {
   "cell_type": "code",
   "execution_count": 343,
   "id": "6e4103fa",
   "metadata": {},
   "outputs": [
    {
     "data": {
      "text/plain": [
       "1681503251694"
      ]
     },
     "execution_count": 343,
     "metadata": {},
     "output_type": "execute_result"
    }
   ],
   "source": [
    "def day62(file):\n",
    "    fish = {key:0 for key in range(9)}\n",
    "    with open(file) as f:\n",
    "        l = f.readline()\n",
    "        start = list(map(int, l.rstrip().split(',')))\n",
    "        for f in start:\n",
    "            fish[f] += 1\n",
    "    for day in range(256):\n",
    "        birthcount = fish[0]\n",
    "        newfish = {key:0 for key in range(9)}\n",
    "        # slide all fish to the left in age dict\n",
    "        for age in range(9):\n",
    "            newage = 6 if age == 0 else age - 1\n",
    "            newfish[newage] += fish[age]\n",
    "        # add the new births\n",
    "        fish = newfish\n",
    "        fish[8] = birthcount\n",
    "    return sum(fish.values())\n",
    "day62(p(\"day6\"))"
   ]
  },
  {
   "cell_type": "code",
   "execution_count": 164,
   "id": "aa86b249",
   "metadata": {},
   "outputs": [
    {
     "data": {
      "text/plain": [
       "372984"
      ]
     },
     "execution_count": 164,
     "metadata": {},
     "output_type": "execute_result"
    }
   ],
   "source": [
    "def day6(file):\n",
    "    with open(file) as f:\n",
    "        l = f.readline()\n",
    "        fish = list(map(int, l.rstrip().split(',')))\n",
    "    for day in range(80):\n",
    "        newfish = []\n",
    "        for i,f in enumerate(fish):\n",
    "            if (f == 0):\n",
    "                f = 6\n",
    "                newfish.append(8)\n",
    "            else:\n",
    "                f -= 1\n",
    "            fish[i] = f\n",
    "        fish += newfish\n",
    "    return len(fish)\n",
    "day6(p(\"day6\"))"
   ]
  },
  {
   "cell_type": "code",
   "execution_count": 129,
   "id": "75779cb3",
   "metadata": {},
   "outputs": [
    {
     "data": {
      "text/plain": [
       "15463"
      ]
     },
     "execution_count": 129,
     "metadata": {},
     "output_type": "execute_result"
    }
   ],
   "source": [
    "def day52(file):\n",
    "    criteria = []\n",
    "    hits = {}\n",
    "    s = 0\n",
    "    with open(file) as f:\n",
    "        for line in f:\n",
    "            line = line.rstrip()\n",
    "            left,right = tuple(line.split('->'))\n",
    "            x1,y1 = tuple(map(int, left.rstrip().split(',')))\n",
    "            x2,y2 = tuple(map(int, right.rstrip().split(',')))\n",
    "            xSign = 1 if x2 >= x1 else -1\n",
    "            ySign = 1 if y2 >= y1 else -1\n",
    "            xs = range(x1, x2+xSign, xSign)\n",
    "            ys = range(y1, y2+ySign, ySign)\n",
    "            if (x1 == x2 or y1 == y2):\n",
    "                r = zip(list(xs)*len(ys),list(ys)*len(xs))\n",
    "            else:\n",
    "                r = zip(list(xs),list(ys))\n",
    "            for x,y in r:\n",
    "                if (x,y) in hits:\n",
    "                    if hits[(x,y)] == 1:\n",
    "                        s += 1\n",
    "                    hits[(x,y)] += 1\n",
    "                else:\n",
    "                    hits[(x,y)] = 1\n",
    "    return s\n",
    "day52(p(\"day5\"))"
   ]
  },
  {
   "cell_type": "code",
   "execution_count": 109,
   "id": "03b56dd8",
   "metadata": {},
   "outputs": [
    {
     "data": {
      "text/plain": [
       "5698"
      ]
     },
     "execution_count": 109,
     "metadata": {},
     "output_type": "execute_result"
    }
   ],
   "source": [
    "def day5(file):\n",
    "    criteria = []\n",
    "    hits = {}\n",
    "    s = 0\n",
    "    with open(file) as f:\n",
    "        for line in f:\n",
    "            line = line.rstrip()\n",
    "            left,right = tuple(line.split('->'))\n",
    "            x1,y1 = tuple(map(int, left.rstrip().split(',')))\n",
    "            x2,y2 = tuple(map(int, right.rstrip().split(',')))\n",
    "            if not (x1 == x2 or y1 == y2):\n",
    "                continue\n",
    "            for x in range(min(x1, x2), max(x1, x2)+1):\n",
    "                for y in range(min(y1, y2), max(y1, y2)+1):\n",
    "                    if (x,y) in hits:\n",
    "                        if hits[(x,y)] == 1:\n",
    "                            s += 1\n",
    "                        hits[(x,y)] += 1\n",
    "                    else:\n",
    "                        hits[(x,y)] = 1\n",
    "                    \n",
    "    return s\n",
    "day5(p(\"day5\"))"
   ]
  },
  {
   "cell_type": "code",
   "execution_count": 87,
   "id": "1bf44697",
   "metadata": {},
   "outputs": [
    {
     "name": "stdout",
     "output_type": "stream",
     "text": [
      "21070\n"
     ]
    }
   ],
   "source": [
    "def board_mark(board, number):\n",
    "    for l in board:\n",
    "        if number in l:\n",
    "            idx = l.index(number)\n",
    "            l[idx] = -10000\n",
    "    return board\n",
    "\n",
    "def score_board(board):\n",
    "    s = 0\n",
    "    for l in board:\n",
    "        s += sum(filter(lambda n: n > 0, l))\n",
    "    return s\n",
    "\n",
    "def val_board(board):\n",
    "    neg_row = filter(lambda l: all(map(lambda n: n<0, l)), board)\n",
    "    neg_col = filter(lambda l: all(map(lambda n: n<0, l)), list(map(list, zip(*board))))\n",
    "    return any(neg_row) or any(neg_col)\n",
    "                     \n",
    "def day4_2(file):\n",
    "    with open(file) as f:\n",
    "        draws = map(int, f.readline().split(\",\"))\n",
    "        \n",
    "        boards = []\n",
    "        done = set([])\n",
    "        board = None\n",
    "        for line in f:\n",
    "            line = line.rstrip()\n",
    "            if not line:\n",
    "                if board:\n",
    "                    boards.append(board)\n",
    "                board = []\n",
    "            else:\n",
    "                board.append(list(map(int, line.split())))\n",
    "        boards.append(board)\n",
    "        \n",
    "        for draw in draws:\n",
    "            for i, board in enumerate(boards):\n",
    "                board = board_mark(board, draw)\n",
    "                if val_board(board):\n",
    "                    done.add(i)\n",
    "                    if len(done) == len(boards):\n",
    "                        s = score_board(board)\n",
    "                        return s*draw\n",
    "                boards[i] = board\n",
    "print(day4_2(\"/Users/maarten/Downloads/day4.txt\"))"
   ]
  },
  {
   "cell_type": "code",
   "execution_count": 75,
   "id": "a799f18f",
   "metadata": {},
   "outputs": [
    {
     "name": "stdout",
     "output_type": "stream",
     "text": [
      "4512\n"
     ]
    }
   ],
   "source": [
    "def board_mark(board, number):\n",
    "    for l in board:\n",
    "        if number in l:\n",
    "            idx = l.index(number)\n",
    "            l[idx] = -10000\n",
    "    return board\n",
    "\n",
    "def score_board(board):\n",
    "    s = 0\n",
    "    for l in board:\n",
    "        s += sum(filter(lambda n: n > 0, l))\n",
    "    return s\n",
    "\n",
    "def val_board(board):\n",
    "    neg_row = filter(lambda l: all(map(lambda n: n<0, l)), board)\n",
    "    neg_col = filter(lambda l: all(map(lambda n: n<0, l)), list(map(list, zip(*board))))\n",
    "    return any(neg_row) or any(neg_col)\n",
    "                     \n",
    "def day4(file):\n",
    "    with open(file) as f:\n",
    "        draws = map(int, f.readline().split(\",\"))\n",
    "        \n",
    "        boards = []\n",
    "        board = None\n",
    "        for line in f:\n",
    "            line = line.rstrip()\n",
    "            if not line:\n",
    "                if board:\n",
    "                    boards.append(board)\n",
    "                board = []\n",
    "            else:\n",
    "                board.append(list(map(int, line.split())))\n",
    "        boards.append(board)\n",
    "        \n",
    "        for draw in draws:\n",
    "            for i, board in enumerate(boards):\n",
    "                board = board_mark(board, draw)\n",
    "                if val_board(board):\n",
    "                    s = score_board(board)\n",
    "                    return s*draw\n",
    "                boards[i] = board\n",
    "print(day4(\"/Users/maarten/Downloads/demo.txt\"))"
   ]
  },
  {
   "cell_type": "code",
   "execution_count": 8,
   "id": "9925f008",
   "metadata": {},
   "outputs": [
    {
     "data": {
      "text/plain": [
       "43774224"
      ]
     },
     "execution_count": 8,
     "metadata": {},
     "output_type": "execute_result"
    }
   ],
   "source": [
    "# Day 3.2\n",
    "def day3(file):\n",
    "    lines = f(file)\n",
    "    bits = {}\n",
    "    \n",
    "    mkeep = lines\n",
    "    lkeep = lines\n",
    "    m = 0\n",
    "    l = 0\n",
    "    for i in range(len(lines[0])):\n",
    "        s = sum(map(lambda l: int(l[i]), mkeep))\n",
    "        if s >= len(mkeep)/2:\n",
    "            mkeep = list(filter(lambda l: l[i] == '1', mkeep))\n",
    "        else:\n",
    "            mkeep = list(filter(lambda l: l[i] == '0', mkeep))\n",
    "        if len(mkeep) == 1:\n",
    "            m = int(min(mkeep), 2)\n",
    "        s = sum(map(lambda l: int(l[i]), lkeep))\n",
    "        if s >= len(lkeep)/2 and s != len(lkeep):\n",
    "            lkeep = list(filter(lambda l: l[i] == '0', lkeep))\n",
    "        else:\n",
    "            lkeep = list(filter(lambda l: l[i] == '1', lkeep))\n",
    "        if len(lkeep) == 1:\n",
    "            l = int(min(lkeep), 2)\n",
    "    return m*l\n",
    "        \n",
    "day3(\"/Users/maarten/Downloads/report18.txt\".format(3))"
   ]
  },
  {
   "cell_type": "code",
   "execution_count": 4,
   "id": "dad60aac",
   "metadata": {},
   "outputs": [
    {
     "data": {
      "text/plain": [
       "1307354"
      ]
     },
     "execution_count": 4,
     "metadata": {},
     "output_type": "execute_result"
    }
   ],
   "source": [
    "# Day 3.1\n",
    "def day3():\n",
    "    lines = f(\"/Users/maarten/Downloads/day{}.txt\".format(3))\n",
    "    bits = {}\n",
    "    n = 0\n",
    "\n",
    "    for line in lines:\n",
    "        for i,bit in enumerate(line):\n",
    "            if i in bits:\n",
    "                bits[i]+=int(line[i])\n",
    "            else:\n",
    "                bits[i]=int(line[i])\n",
    "        n+=1\n",
    "        \n",
    "    m = \"\"\n",
    "    l = \"\"\n",
    "\n",
    "    for k,v in sorted(bits.items(), key = lambda d: d[0]):\n",
    "        if v<n/2:\n",
    "            m += \"0\"\n",
    "            l += \"1\"\n",
    "        else:\n",
    "            m += \"1\"\n",
    "            l += \"0\"\n",
    "    return int(m, 2)*int(l,2)\n",
    "day3()"
   ]
  },
  {
   "cell_type": "code",
   "execution_count": 43,
   "id": "8947533c",
   "metadata": {},
   "outputs": [],
   "source": [
    "day2 = g(2)"
   ]
  },
  {
   "cell_type": "code",
   "execution_count": 44,
   "id": "227dfb6a",
   "metadata": {},
   "outputs": [
    {
     "data": {
      "text/plain": [
       "2272262"
      ]
     },
     "execution_count": 44,
     "metadata": {},
     "output_type": "execute_result"
    }
   ],
   "source": [
    "#Day 2\n",
    "deltas = {\"forward\": (1,0), \"down\": (0,1), \"up\": (0,-1)}\n",
    "pos = (0,0)\n",
    "for d in day2:\n",
    "    inst, amount = tuple(d.split(\" \"))\n",
    "    amount = int(amount)\n",
    "    delta = deltas[inst]\n",
    "    pos = (pos[0] + amount * delta[0], pos[1] + amount * delta[1])\n",
    "pos[0]*pos[1]"
   ]
  },
  {
   "cell_type": "code",
   "execution_count": 41,
   "id": "7a673ddb",
   "metadata": {},
   "outputs": [
    {
     "data": {
      "text/plain": [
       "2134882034"
      ]
     },
     "execution_count": 41,
     "metadata": {},
     "output_type": "execute_result"
    }
   ],
   "source": [
    "#Day 2.2\n",
    "aim = 0\n",
    "hpos = 0\n",
    "depth = 0\n",
    "for d in day2:\n",
    "    inst, amount = tuple(d.split(\" \"))\n",
    "    amount = int(amount)\n",
    "    if inst == \"down\":\n",
    "        aim += amount\n",
    "    if inst == \"up\":\n",
    "        aim -= amount\n",
    "    if inst == \"forward\":\n",
    "        hpos += amount\n",
    "        depth += aim * amount\n",
    "hpos * depth"
   ]
  },
  {
   "cell_type": "code",
   "execution_count": 31,
   "id": "26969b27",
   "metadata": {},
   "outputs": [],
   "source": [
    "day1 = g(1, f=int)"
   ]
  },
  {
   "cell_type": "code",
   "execution_count": 33,
   "id": "555039b2",
   "metadata": {},
   "outputs": [
    {
     "data": {
      "text/plain": [
       "1390"
      ]
     },
     "execution_count": 33,
     "metadata": {},
     "output_type": "execute_result"
    }
   ],
   "source": [
    "#Day 1\n",
    "prev = None\n",
    "cnt = 0\n",
    "for d in day1:\n",
    "    if prev and d > prev:\n",
    "        cnt += 1\n",
    "    prev = d\n",
    "cnt"
   ]
  },
  {
   "cell_type": "code",
   "execution_count": 35,
   "id": "80eb0faf",
   "metadata": {},
   "outputs": [
    {
     "data": {
      "text/plain": [
       "1457"
      ]
     },
     "execution_count": 35,
     "metadata": {},
     "output_type": "execute_result"
    }
   ],
   "source": [
    "#Day 1.2\n",
    "prev = None\n",
    "cnt = 0\n",
    "for i,d in enumerate(day1):\n",
    "    s = sum(day1[i:i+3])\n",
    "    if prev and s > prev:\n",
    "        cnt += 1\n",
    "    prev = s\n",
    "cnt"
   ]
  }
 ],
 "metadata": {
  "kernelspec": {
   "display_name": "Python 3 (ipykernel)",
   "language": "python",
   "name": "python3"
  },
  "language_info": {
   "codemirror_mode": {
    "name": "ipython",
    "version": 3
   },
   "file_extension": ".py",
   "mimetype": "text/x-python",
   "name": "python",
   "nbconvert_exporter": "python",
   "pygments_lexer": "ipython3",
   "version": "3.9.6"
  }
 },
 "nbformat": 4,
 "nbformat_minor": 5
}
