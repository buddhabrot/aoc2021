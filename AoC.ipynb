{
 "cells": [
  {
   "cell_type": "code",
   "execution_count": 244,
   "id": "208902c9",
   "metadata": {},
   "outputs": [],
   "source": [
    "def f(loc, suff=None, f=None):\n",
    "    with open(loc) as file:\n",
    "        if f:\n",
    "            return list(map(lambda l: f(l.rstrip()), file.readlines()))\n",
    "        else:\n",
    "            return list(map(lambda l: l.rstrip(), file.readlines()))\n",
    "        \n",
    "def g(day, suff=None, f=None):\n",
    "    with open(\"/Users/maarten/Downloads/day{}.txt\".format(day)) as file:\n",
    "        if f:\n",
    "            return list(map(lambda l: f(l.rstrip()), file.readlines()))\n",
    "        else:\n",
    "            return list(map(lambda l: l.rstrip(), file.readlines()))\n",
    "def p(f):\n",
    "    return \"/Users/maarten/Downloads/{}.txt\".format(f)"
   ]
  },
  {
   "cell_type": "code",
   "execution_count": 302,
   "id": "20b66834",
   "metadata": {},
   "outputs": [
    {
     "ename": "TypeError",
     "evalue": "list indices must be integers or slices, not str",
     "output_type": "error",
     "traceback": [
      "\u001b[0;31m---------------------------------------------------------------------------\u001b[0m",
      "\u001b[0;31mTypeError\u001b[0m                                 Traceback (most recent call last)",
      "\u001b[0;32m/var/folders/y0/t7zsg4vj0dj2yhm9fmd09_q40000gn/T/ipykernel_5484/3117829921.py\u001b[0m in \u001b[0;36m<module>\u001b[0;34m\u001b[0m\n\u001b[1;32m     24\u001b[0m                 \u001b[0mscores\u001b[0m\u001b[0;34m.\u001b[0m\u001b[0mappend\u001b[0m\u001b[0;34m(\u001b[0m\u001b[0mscore\u001b[0m\u001b[0;34m)\u001b[0m\u001b[0;34m\u001b[0m\u001b[0;34m\u001b[0m\u001b[0m\n\u001b[1;32m     25\u001b[0m         \u001b[0;32mreturn\u001b[0m \u001b[0mscores\u001b[0m\u001b[0;34m\u001b[0m\u001b[0;34m\u001b[0m\u001b[0m\n\u001b[0;32m---> 26\u001b[0;31m \u001b[0mday10b\u001b[0m\u001b[0;34m(\u001b[0m\u001b[0mp\u001b[0m\u001b[0;34m(\u001b[0m\u001b[0;34m\"day10\"\u001b[0m\u001b[0;34m)\u001b[0m\u001b[0;34m)\u001b[0m\u001b[0;34m\u001b[0m\u001b[0;34m\u001b[0m\u001b[0m\n\u001b[0m",
      "\u001b[0;32m/var/folders/y0/t7zsg4vj0dj2yhm9fmd09_q40000gn/T/ipykernel_5484/3117829921.py\u001b[0m in \u001b[0;36mday10b\u001b[0;34m(file)\u001b[0m\n\u001b[1;32m     21\u001b[0m                 \u001b[0;32mfor\u001b[0m \u001b[0mc\u001b[0m \u001b[0;32min\u001b[0m \u001b[0mstack\u001b[0m\u001b[0;34m[\u001b[0m\u001b[0;34m-\u001b[0m\u001b[0;36m1\u001b[0m\u001b[0;34m:\u001b[0m\u001b[0;34m:\u001b[0m\u001b[0;34m-\u001b[0m\u001b[0;36m1\u001b[0m\u001b[0;34m]\u001b[0m\u001b[0;34m:\u001b[0m\u001b[0;34m\u001b[0m\u001b[0;34m\u001b[0m\u001b[0m\n\u001b[1;32m     22\u001b[0m                     \u001b[0mscore\u001b[0m \u001b[0;34m*=\u001b[0m \u001b[0;36m5\u001b[0m\u001b[0;34m\u001b[0m\u001b[0;34m\u001b[0m\u001b[0m\n\u001b[0;32m---> 23\u001b[0;31m                     \u001b[0mscore\u001b[0m \u001b[0;34m+=\u001b[0m \u001b[0mscores\u001b[0m\u001b[0;34m[\u001b[0m\u001b[0minv\u001b[0m\u001b[0;34m[\u001b[0m\u001b[0mc\u001b[0m\u001b[0;34m]\u001b[0m\u001b[0;34m]\u001b[0m\u001b[0;34m\u001b[0m\u001b[0;34m\u001b[0m\u001b[0m\n\u001b[0m\u001b[1;32m     24\u001b[0m                 \u001b[0mscores\u001b[0m\u001b[0;34m.\u001b[0m\u001b[0mappend\u001b[0m\u001b[0;34m(\u001b[0m\u001b[0mscore\u001b[0m\u001b[0;34m)\u001b[0m\u001b[0;34m\u001b[0m\u001b[0;34m\u001b[0m\u001b[0m\n\u001b[1;32m     25\u001b[0m         \u001b[0;32mreturn\u001b[0m \u001b[0mscores\u001b[0m\u001b[0;34m\u001b[0m\u001b[0;34m\u001b[0m\u001b[0m\n",
      "\u001b[0;31mTypeError\u001b[0m: list indices must be integers or slices, not str"
     ]
    }
   ],
   "source": [
    "def day10b(file):\n",
    "    terms = {')': 1, ']': 2, '}': 3, '>': 4}\n",
    "    match = {')': '(', ']': '[', '}': '{', '>': '<'}\n",
    "    inv = {k:v for v,k in match.items()}\n",
    "    \n",
    "    with open(file) as f:\n",
    "        scores = []\n",
    "        for line in f:\n",
    "            stack = []\n",
    "            for c in line.rstrip():\n",
    "                if c in scores:\n",
    "                    if stack[-1] == match[c]:\n",
    "                        stack.pop()\n",
    "                    else:\n",
    "                        break # illegal\n",
    "                else:\n",
    "                    stack.append(c)\n",
    "            else:\n",
    "                # legal line\n",
    "                score = 0\n",
    "                for c in stack[-1::-1]:\n",
    "                    score *= 5\n",
    "                    score += scores[inv[c]]\n",
    "                scores.append(score)\n",
    "        return scores\n",
    "day10b(p(\"day10\"))"
   ]
  },
  {
   "cell_type": "code",
   "execution_count": 298,
   "id": "f75d5e39",
   "metadata": {},
   "outputs": [
    {
     "data": {
      "text/plain": [
       "394647"
      ]
     },
     "execution_count": 298,
     "metadata": {},
     "output_type": "execute_result"
    }
   ],
   "source": [
    "def day10(file):\n",
    "    scores = {')': 3, ']': 57, '}': 1197, '>': 25137}\n",
    "    match = {')': '(', ']': '[', '}': '{', '>': '<'}\n",
    "\n",
    "    with open(file) as f:\n",
    "        illegal = 0\n",
    "        for line in f:\n",
    "            stack = []\n",
    "            for c in line:\n",
    "                if c in scores:\n",
    "                    if stack[-1] == match[c]:\n",
    "                        stack.pop()\n",
    "                    else:\n",
    "                        illegal += scores[c]\n",
    "                        break\n",
    "                else:\n",
    "                    stack.append(c)\n",
    "        return illegal\n",
    "day10(p(\"day10\"))"
   ]
  },
  {
   "cell_type": "code",
   "execution_count": 296,
   "id": "095e63d3",
   "metadata": {},
   "outputs": [
    {
     "data": {
      "text/plain": [
       "987840"
      ]
     },
     "execution_count": 296,
     "metadata": {},
     "output_type": "execute_result"
    }
   ],
   "source": [
    "def basin(start, m):\n",
    "    result = set([start])\n",
    "    while True:\n",
    "        n = set([])\n",
    "        for (row,col) in result:\n",
    "            n.update(neighbours(row,col,m))\n",
    "        n = n.difference(result)\n",
    "        n = set([l for l in n if m[l[0]][l[1]] != 9])\n",
    "        if len(n) == 0:\n",
    "            return result\n",
    "        newresult = result.union(n)\n",
    "        if len(newresult) == len(result):\n",
    "            return result\n",
    "        result = newresult\n",
    "    return result\n",
    "\n",
    "def neighbours(row,col,m):\n",
    "    return [(max(0,row-1), col), (min(len(m)-1,row+1),col), (row, max(0,col-1)), (row, min(len(m[0])-1,col+1))]\n",
    "\n",
    "def day92(file):\n",
    "    m = []\n",
    "    with open(file) as f:\n",
    "        for line in f:\n",
    "            m.append(list(map(int, list(line.rstrip()))))\n",
    "    minima = []\n",
    "    for row in range(len(m)):\n",
    "        for col in range(len(m[0])):\n",
    "            p = m[row][col]\n",
    "            localMinimum = True\n",
    "            for n in neighbours(row,col,m):\n",
    "                nrow = n[0]\n",
    "                ncol = n[1]\n",
    "                if nrow == row and ncol == col:\n",
    "                    continue\n",
    "                if m[nrow][ncol]<=p:\n",
    "                    localMinimum = False\n",
    "                    break\n",
    "            if (localMinimum):\n",
    "                minima.append((row,col))\n",
    "    basins = []\n",
    "    for (row,col) in minima:\n",
    "        # flood fill up to \n",
    "        basins.append(len(basin((row,col), m)))\n",
    "    \n",
    "    result = 1\n",
    "    for n in sorted(basins, reverse=True)[0:3]:\n",
    "        result *= n\n",
    "    return result\n",
    "day92(p(\"day9\"))"
   ]
  },
  {
   "cell_type": "code",
   "execution_count": 288,
   "id": "64582c4e",
   "metadata": {},
   "outputs": [
    {
     "data": {
      "text/plain": [
       "1034"
      ]
     },
     "execution_count": 288,
     "metadata": {},
     "output_type": "execute_result"
    }
   ],
   "source": [
    "def day9(file):\n",
    "    m = []\n",
    "    with open(file) as f:\n",
    "        for line in f:\n",
    "            m.append(list(map(int, list(line.rstrip()))))\n",
    "    risk = 0\n",
    "    for row in range(len(m)):\n",
    "        for col in range(len(m[0])):\n",
    "            p = m[row][col]\n",
    "            localMinimum = True\n",
    "            for n in [(max(0,row-1), col), (min(len(m)-1,row+1),col), (row, max(0,col-1)), (row, min(len(m[0])-1,col+1))]:\n",
    "                nrow = n[0]\n",
    "                ncol = n[1]\n",
    "                if nrow == row and ncol == col:\n",
    "                    continue\n",
    "                if m[nrow][ncol]<=p:\n",
    "                    localMinimum = False\n",
    "                    break\n",
    "            if (localMinimum):\n",
    "                risk += p+1\n",
    "    return risk\n",
    "day9(p(\"caves06\"))"
   ]
  },
  {
   "cell_type": "code",
   "execution_count": 243,
   "id": "5cde66a5",
   "metadata": {},
   "outputs": [
    {
     "data": {
      "text/plain": [
       "1055164"
      ]
     },
     "execution_count": 243,
     "metadata": {},
     "output_type": "execute_result"
    }
   ],
   "source": [
    "def day82(file):\n",
    "    easy = {1: \"cf\", 4: \"bcdf\", 7: \"acf\", 8: \"abcdefg\"}\n",
    "    hard = {0: \"abcefg\", 2: \"acdeg\", 3: \"acdfg\", 5: \"abdfg\", 6: \"abdefg\", 9: \"abcdfg\"}\n",
    "    with open(file) as f:\n",
    "        total = 0\n",
    "        for line in f:\n",
    "            ip,op = tuple(line.rstrip().split(' | '))\n",
    "            inputs = ip.split(' ')\n",
    "            outputs = op.split(' ')\n",
    "            mutations = {i:set(list(\"abcdefg\")) for i in \"abcdefg\"}\n",
    "            for inp in inputs:\n",
    "                for d,v in easy.items():\n",
    "                    if len(inp) == len(v):\n",
    "                        # found a match: add pattern\n",
    "                        for c in v:\n",
    "                            mutations[c] = mutations[c].intersection(set(list(inp)))\n",
    "                if len(inp) == 5:\n",
    "                    mutations['a'] = mutations['a'].intersection(set(list(inp)))\n",
    "                    mutations['d'] = mutations['d'].intersection(set(list(inp)))\n",
    "                    mutations['g'] = mutations['g'].intersection(set(list(inp)))\n",
    "                if len(inp) == 6:\n",
    "                    mutations['a'] = mutations['a'].intersection(set(list(inp)))\n",
    "                    mutations['b'] = mutations['b'].intersection(set(list(inp)))\n",
    "                    mutations['f'] = mutations['f'].intersection(set(list(inp)))\n",
    "                    mutations['g'] = mutations['g'].intersection(set(list(inp)))\n",
    "            while not all(map(lambda s: len(s) == 1, mutations.values())):\n",
    "                for k, v in filter(lambda s: len(s[1]) == 1, mutations.items()):\n",
    "                    for mk, mv in mutations.items():\n",
    "                        if mutations[mk] != v:\n",
    "                            mutations[mk] = mutations[mk].difference(v)\n",
    "            inv_map = {v: k for k, v in list(hard.items()) + list(easy.items())}\n",
    "            inv_mut = {list(v)[0]: k for k, v in mutations.items()}\n",
    "            out_num = \"\"\n",
    "            for out in outputs:\n",
    "                s = \"\"\n",
    "                for k in out:\n",
    "                    s += inv_mut[k]\n",
    "                out_num += str(inv_map[\"\".join(sorted(s))])\n",
    "            total += int(out_num)\n",
    "    return total\n",
    "day82(p(\"day8\"))"
   ]
  },
  {
   "cell_type": "code",
   "execution_count": 192,
   "id": "bfa91eaa",
   "metadata": {},
   "outputs": [
    {
     "data": {
      "text/plain": [
       "495"
      ]
     },
     "execution_count": 192,
     "metadata": {},
     "output_type": "execute_result"
    }
   ],
   "source": [
    "def day8(file):\n",
    "    digits = {1: \"cf\", 4: \"bcdf\", 7: \"acf\", 8: \"abcdefg\"}\n",
    "    with open(file) as f:\n",
    "        total = 0\n",
    "        for line in f:\n",
    "            ip,op = tuple(line.rstrip().split(' | '))\n",
    "            inputs = ip.split(' ')\n",
    "            outputs = op.split(' ')\n",
    "            for inp in inputs:\n",
    "                for d,v in digits.items():\n",
    "                    if len(inp) == len(v):\n",
    "                        for out in outputs:\n",
    "                            if len(out) == len(v):\n",
    "                                total += 1\n",
    "    return total\n",
    "day8(p(\"day8\"))"
   ]
  },
  {
   "cell_type": "code",
   "execution_count": 183,
   "id": "2d357350",
   "metadata": {},
   "outputs": [
    {
     "data": {
      "text/plain": [
       "100727924"
      ]
     },
     "execution_count": 183,
     "metadata": {},
     "output_type": "execute_result"
    }
   ],
   "source": [
    "def day72(file):\n",
    "    with open(file) as f:\n",
    "        crabs = list(map(int, f.readline().rstrip().split(',')))\n",
    "    m = None\n",
    "    pos = None\n",
    "    for i in range(max(crabs)):\n",
    "        delta = sum(map(lambda c: abs(c-i)*(abs(c-i)+1)/2, crabs))\n",
    "        if m is None or delta < m:\n",
    "            m = delta\n",
    "            pos = i\n",
    "    return int(m)\n",
    "day72(p(\"day7\"))"
   ]
  },
  {
   "cell_type": "code",
   "execution_count": 179,
   "id": "2ce9573d",
   "metadata": {},
   "outputs": [
    {
     "data": {
      "text/plain": [
       "359648"
      ]
     },
     "execution_count": 179,
     "metadata": {},
     "output_type": "execute_result"
    }
   ],
   "source": [
    "def day7(file):\n",
    "    with open(file) as f:\n",
    "        crabs = list(map(int, f.readline().rstrip().split(',')))\n",
    "    m = None\n",
    "    pos = None\n",
    "    for i in range(max(crabs)):\n",
    "        delta = sum(map(lambda c: abs(c-i), crabs))\n",
    "        if m is None or delta < m:\n",
    "            m = delta\n",
    "            pos = i\n",
    "    return m\n",
    "day7(p(\"day7\"))"
   ]
  },
  {
   "cell_type": "code",
   "execution_count": 165,
   "id": "6e4103fa",
   "metadata": {},
   "outputs": [
    {
     "data": {
      "text/plain": [
       "1681503251694"
      ]
     },
     "execution_count": 165,
     "metadata": {},
     "output_type": "execute_result"
    }
   ],
   "source": [
    "def day62(file):\n",
    "    fish = {key:0 for key in range(9)}\n",
    "    with open(file) as f:\n",
    "        l = f.readline()\n",
    "        start = list(map(int, l.rstrip().split(',')))\n",
    "        for f in start:\n",
    "            fish[f] += 1\n",
    "    for day in range(256):\n",
    "        birthcount = fish[0]\n",
    "        newfish = {key:0 for key in range(9)}\n",
    "        # slide all fish to the left in age dict\n",
    "        for age in range(9):\n",
    "            newage = 6 if age == 0 else age - 1\n",
    "            newfish[newage] += fish[age]\n",
    "        # add the new births\n",
    "        fish = newfish\n",
    "        fish[8] = birthcount\n",
    "    return sum(fish.values())\n",
    "day62(p(\"day6\"))"
   ]
  },
  {
   "cell_type": "code",
   "execution_count": 164,
   "id": "aa86b249",
   "metadata": {},
   "outputs": [
    {
     "data": {
      "text/plain": [
       "372984"
      ]
     },
     "execution_count": 164,
     "metadata": {},
     "output_type": "execute_result"
    }
   ],
   "source": [
    "def day6(file):\n",
    "    with open(file) as f:\n",
    "        l = f.readline()\n",
    "        fish = list(map(int, l.rstrip().split(',')))\n",
    "    for day in range(80):\n",
    "        newfish = []\n",
    "        for i,f in enumerate(fish):\n",
    "            if (f == 0):\n",
    "                f = 6\n",
    "                newfish.append(8)\n",
    "            else:\n",
    "                f -= 1\n",
    "            fish[i] = f\n",
    "        fish += newfish\n",
    "    return len(fish)\n",
    "day6(p(\"day6\"))"
   ]
  },
  {
   "cell_type": "code",
   "execution_count": 129,
   "id": "75779cb3",
   "metadata": {},
   "outputs": [
    {
     "data": {
      "text/plain": [
       "15463"
      ]
     },
     "execution_count": 129,
     "metadata": {},
     "output_type": "execute_result"
    }
   ],
   "source": [
    "def day52(file):\n",
    "    criteria = []\n",
    "    hits = {}\n",
    "    s = 0\n",
    "    with open(file) as f:\n",
    "        for line in f:\n",
    "            line = line.rstrip()\n",
    "            left,right = tuple(line.split('->'))\n",
    "            x1,y1 = tuple(map(int, left.rstrip().split(',')))\n",
    "            x2,y2 = tuple(map(int, right.rstrip().split(',')))\n",
    "            xSign = 1 if x2 >= x1 else -1\n",
    "            ySign = 1 if y2 >= y1 else -1\n",
    "            xs = range(x1, x2+xSign, xSign)\n",
    "            ys = range(y1, y2+ySign, ySign)\n",
    "            if (x1 == x2 or y1 == y2):\n",
    "                r = zip(list(xs)*len(ys),list(ys)*len(xs))\n",
    "            else:\n",
    "                r = zip(list(xs),list(ys))\n",
    "            for x,y in r:\n",
    "                if (x,y) in hits:\n",
    "                    if hits[(x,y)] == 1:\n",
    "                        s += 1\n",
    "                    hits[(x,y)] += 1\n",
    "                else:\n",
    "                    hits[(x,y)] = 1\n",
    "    return s\n",
    "day52(p(\"day5\"))"
   ]
  },
  {
   "cell_type": "code",
   "execution_count": 109,
   "id": "03b56dd8",
   "metadata": {},
   "outputs": [
    {
     "data": {
      "text/plain": [
       "5698"
      ]
     },
     "execution_count": 109,
     "metadata": {},
     "output_type": "execute_result"
    }
   ],
   "source": [
    "def day5(file):\n",
    "    criteria = []\n",
    "    hits = {}\n",
    "    s = 0\n",
    "    with open(file) as f:\n",
    "        for line in f:\n",
    "            line = line.rstrip()\n",
    "            left,right = tuple(line.split('->'))\n",
    "            x1,y1 = tuple(map(int, left.rstrip().split(',')))\n",
    "            x2,y2 = tuple(map(int, right.rstrip().split(',')))\n",
    "            if not (x1 == x2 or y1 == y2):\n",
    "                continue\n",
    "            for x in range(min(x1, x2), max(x1, x2)+1):\n",
    "                for y in range(min(y1, y2), max(y1, y2)+1):\n",
    "                    if (x,y) in hits:\n",
    "                        if hits[(x,y)] == 1:\n",
    "                            s += 1\n",
    "                        hits[(x,y)] += 1\n",
    "                    else:\n",
    "                        hits[(x,y)] = 1\n",
    "                    \n",
    "    return s\n",
    "day5(p(\"day5\"))"
   ]
  },
  {
   "cell_type": "code",
   "execution_count": 87,
   "id": "1bf44697",
   "metadata": {},
   "outputs": [
    {
     "name": "stdout",
     "output_type": "stream",
     "text": [
      "21070\n"
     ]
    }
   ],
   "source": [
    "def board_mark(board, number):\n",
    "    for l in board:\n",
    "        if number in l:\n",
    "            idx = l.index(number)\n",
    "            l[idx] = -10000\n",
    "    return board\n",
    "\n",
    "def score_board(board):\n",
    "    s = 0\n",
    "    for l in board:\n",
    "        s += sum(filter(lambda n: n > 0, l))\n",
    "    return s\n",
    "\n",
    "def val_board(board):\n",
    "    neg_row = filter(lambda l: all(map(lambda n: n<0, l)), board)\n",
    "    neg_col = filter(lambda l: all(map(lambda n: n<0, l)), list(map(list, zip(*board))))\n",
    "    return any(neg_row) or any(neg_col)\n",
    "                     \n",
    "def day4_2(file):\n",
    "    with open(file) as f:\n",
    "        draws = map(int, f.readline().split(\",\"))\n",
    "        \n",
    "        boards = []\n",
    "        done = set([])\n",
    "        board = None\n",
    "        for line in f:\n",
    "            line = line.rstrip()\n",
    "            if not line:\n",
    "                if board:\n",
    "                    boards.append(board)\n",
    "                board = []\n",
    "            else:\n",
    "                board.append(list(map(int, line.split())))\n",
    "        boards.append(board)\n",
    "        \n",
    "        for draw in draws:\n",
    "            for i, board in enumerate(boards):\n",
    "                board = board_mark(board, draw)\n",
    "                if val_board(board):\n",
    "                    done.add(i)\n",
    "                    if len(done) == len(boards):\n",
    "                        s = score_board(board)\n",
    "                        return s*draw\n",
    "                boards[i] = board\n",
    "print(day4_2(\"/Users/maarten/Downloads/day4.txt\"))"
   ]
  },
  {
   "cell_type": "code",
   "execution_count": 75,
   "id": "a799f18f",
   "metadata": {},
   "outputs": [
    {
     "name": "stdout",
     "output_type": "stream",
     "text": [
      "4512\n"
     ]
    }
   ],
   "source": [
    "def board_mark(board, number):\n",
    "    for l in board:\n",
    "        if number in l:\n",
    "            idx = l.index(number)\n",
    "            l[idx] = -10000\n",
    "    return board\n",
    "\n",
    "def score_board(board):\n",
    "    s = 0\n",
    "    for l in board:\n",
    "        s += sum(filter(lambda n: n > 0, l))\n",
    "    return s\n",
    "\n",
    "def val_board(board):\n",
    "    neg_row = filter(lambda l: all(map(lambda n: n<0, l)), board)\n",
    "    neg_col = filter(lambda l: all(map(lambda n: n<0, l)), list(map(list, zip(*board))))\n",
    "    return any(neg_row) or any(neg_col)\n",
    "                     \n",
    "def day4(file):\n",
    "    with open(file) as f:\n",
    "        draws = map(int, f.readline().split(\",\"))\n",
    "        \n",
    "        boards = []\n",
    "        board = None\n",
    "        for line in f:\n",
    "            line = line.rstrip()\n",
    "            if not line:\n",
    "                if board:\n",
    "                    boards.append(board)\n",
    "                board = []\n",
    "            else:\n",
    "                board.append(list(map(int, line.split())))\n",
    "        boards.append(board)\n",
    "        \n",
    "        for draw in draws:\n",
    "            for i, board in enumerate(boards):\n",
    "                board = board_mark(board, draw)\n",
    "                if val_board(board):\n",
    "                    s = score_board(board)\n",
    "                    return s*draw\n",
    "                boards[i] = board\n",
    "print(day4(\"/Users/maarten/Downloads/demo.txt\"))"
   ]
  },
  {
   "cell_type": "code",
   "execution_count": 8,
   "id": "9925f008",
   "metadata": {},
   "outputs": [
    {
     "data": {
      "text/plain": [
       "43774224"
      ]
     },
     "execution_count": 8,
     "metadata": {},
     "output_type": "execute_result"
    }
   ],
   "source": [
    "# Day 3.2\n",
    "def day3(file):\n",
    "    lines = f(file)\n",
    "    bits = {}\n",
    "    \n",
    "    mkeep = lines\n",
    "    lkeep = lines\n",
    "    m = 0\n",
    "    l = 0\n",
    "    for i in range(len(lines[0])):\n",
    "        s = sum(map(lambda l: int(l[i]), mkeep))\n",
    "        if s >= len(mkeep)/2:\n",
    "            mkeep = list(filter(lambda l: l[i] == '1', mkeep))\n",
    "        else:\n",
    "            mkeep = list(filter(lambda l: l[i] == '0', mkeep))\n",
    "        if len(mkeep) == 1:\n",
    "            m = int(min(mkeep), 2)\n",
    "        s = sum(map(lambda l: int(l[i]), lkeep))\n",
    "        if s >= len(lkeep)/2 and s != len(lkeep):\n",
    "            lkeep = list(filter(lambda l: l[i] == '0', lkeep))\n",
    "        else:\n",
    "            lkeep = list(filter(lambda l: l[i] == '1', lkeep))\n",
    "        if len(lkeep) == 1:\n",
    "            l = int(min(lkeep), 2)\n",
    "    return m*l\n",
    "        \n",
    "day3(\"/Users/maarten/Downloads/report18.txt\".format(3))"
   ]
  },
  {
   "cell_type": "code",
   "execution_count": 4,
   "id": "dad60aac",
   "metadata": {},
   "outputs": [
    {
     "data": {
      "text/plain": [
       "1307354"
      ]
     },
     "execution_count": 4,
     "metadata": {},
     "output_type": "execute_result"
    }
   ],
   "source": [
    "# Day 3.1\n",
    "def day3():\n",
    "    lines = f(\"/Users/maarten/Downloads/day{}.txt\".format(3))\n",
    "    bits = {}\n",
    "    n = 0\n",
    "\n",
    "    for line in lines:\n",
    "        for i,bit in enumerate(line):\n",
    "            if i in bits:\n",
    "                bits[i]+=int(line[i])\n",
    "            else:\n",
    "                bits[i]=int(line[i])\n",
    "        n+=1\n",
    "        \n",
    "    m = \"\"\n",
    "    l = \"\"\n",
    "\n",
    "    for k,v in sorted(bits.items(), key = lambda d: d[0]):\n",
    "        if v<n/2:\n",
    "            m += \"0\"\n",
    "            l += \"1\"\n",
    "        else:\n",
    "            m += \"1\"\n",
    "            l += \"0\"\n",
    "    return int(m, 2)*int(l,2)\n",
    "day3()"
   ]
  },
  {
   "cell_type": "code",
   "execution_count": 43,
   "id": "8947533c",
   "metadata": {},
   "outputs": [],
   "source": [
    "day2 = g(2)"
   ]
  },
  {
   "cell_type": "code",
   "execution_count": 44,
   "id": "227dfb6a",
   "metadata": {},
   "outputs": [
    {
     "data": {
      "text/plain": [
       "2272262"
      ]
     },
     "execution_count": 44,
     "metadata": {},
     "output_type": "execute_result"
    }
   ],
   "source": [
    "#Day 2\n",
    "deltas = {\"forward\": (1,0), \"down\": (0,1), \"up\": (0,-1)}\n",
    "pos = (0,0)\n",
    "for d in day2:\n",
    "    inst, amount = tuple(d.split(\" \"))\n",
    "    amount = int(amount)\n",
    "    delta = deltas[inst]\n",
    "    pos = (pos[0] + amount * delta[0], pos[1] + amount * delta[1])\n",
    "pos[0]*pos[1]"
   ]
  },
  {
   "cell_type": "code",
   "execution_count": 41,
   "id": "7a673ddb",
   "metadata": {},
   "outputs": [
    {
     "data": {
      "text/plain": [
       "2134882034"
      ]
     },
     "execution_count": 41,
     "metadata": {},
     "output_type": "execute_result"
    }
   ],
   "source": [
    "#Day 2.2\n",
    "aim = 0\n",
    "hpos = 0\n",
    "depth = 0\n",
    "for d in day2:\n",
    "    inst, amount = tuple(d.split(\" \"))\n",
    "    amount = int(amount)\n",
    "    if inst == \"down\":\n",
    "        aim += amount\n",
    "    if inst == \"up\":\n",
    "        aim -= amount\n",
    "    if inst == \"forward\":\n",
    "        hpos += amount\n",
    "        depth += aim * amount\n",
    "hpos * depth"
   ]
  },
  {
   "cell_type": "code",
   "execution_count": 31,
   "id": "26969b27",
   "metadata": {},
   "outputs": [],
   "source": [
    "day1 = g(1, f=int)"
   ]
  },
  {
   "cell_type": "code",
   "execution_count": 33,
   "id": "555039b2",
   "metadata": {},
   "outputs": [
    {
     "data": {
      "text/plain": [
       "1390"
      ]
     },
     "execution_count": 33,
     "metadata": {},
     "output_type": "execute_result"
    }
   ],
   "source": [
    "#Day 1\n",
    "prev = None\n",
    "cnt = 0\n",
    "for d in day1:\n",
    "    if prev and d > prev:\n",
    "        cnt += 1\n",
    "    prev = d\n",
    "cnt"
   ]
  },
  {
   "cell_type": "code",
   "execution_count": 35,
   "id": "80eb0faf",
   "metadata": {},
   "outputs": [
    {
     "data": {
      "text/plain": [
       "1457"
      ]
     },
     "execution_count": 35,
     "metadata": {},
     "output_type": "execute_result"
    }
   ],
   "source": [
    "#Day 1.2\n",
    "prev = None\n",
    "cnt = 0\n",
    "for i,d in enumerate(day1):\n",
    "    s = sum(day1[i:i+3])\n",
    "    if prev and s > prev:\n",
    "        cnt += 1\n",
    "    prev = s\n",
    "cnt"
   ]
  }
 ],
 "metadata": {
  "kernelspec": {
   "display_name": "Python 3 (ipykernel)",
   "language": "python",
   "name": "python3"
  },
  "language_info": {
   "codemirror_mode": {
    "name": "ipython",
    "version": 3
   },
   "file_extension": ".py",
   "mimetype": "text/x-python",
   "name": "python",
   "nbconvert_exporter": "python",
   "pygments_lexer": "ipython3",
   "version": "3.9.6"
  }
 },
 "nbformat": 4,
 "nbformat_minor": 5
}
