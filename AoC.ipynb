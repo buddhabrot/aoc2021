{
 "cells": [
  {
   "cell_type": "code",
   "execution_count": 42,
   "id": "208902c9",
   "metadata": {},
   "outputs": [],
   "source": [
    "def g(day, suff=None, f=None):\n",
    "    with open(\"/Users/maarten/Downloads/day{}.txt\".format(day)) as file:\n",
    "        if f:\n",
    "            return list(map(lambda l: f(l.rstrip()), file.readlines()))\n",
    "        else:\n",
    "            return list(map(lambda l: l.rstrip(), file.readlines()))"
   ]
  },
  {
   "cell_type": "code",
   "execution_count": 43,
   "id": "8947533c",
   "metadata": {},
   "outputs": [],
   "source": [
    "day2 = g(2)"
   ]
  },
  {
   "cell_type": "code",
   "execution_count": 44,
   "id": "227dfb6a",
   "metadata": {},
   "outputs": [
    {
     "data": {
      "text/plain": [
       "2272262"
      ]
     },
     "execution_count": 44,
     "metadata": {},
     "output_type": "execute_result"
    }
   ],
   "source": [
    "#Day 2\n",
    "deltas = {\"forward\": (1,0), \"down\": (0,1), \"up\": (0,-1)}\n",
    "pos = (0,0)\n",
    "for d in day2:\n",
    "    inst, amount = tuple(d.split(\" \"))\n",
    "    amount = int(amount)\n",
    "    delta = deltas[inst]\n",
    "    pos = (pos[0] + amount * delta[0], pos[1] + amount * delta[1])\n",
    "pos[0]*pos[1]"
   ]
  },
  {
   "cell_type": "code",
   "execution_count": 41,
   "id": "7a673ddb",
   "metadata": {},
   "outputs": [
    {
     "data": {
      "text/plain": [
       "2134882034"
      ]
     },
     "execution_count": 41,
     "metadata": {},
     "output_type": "execute_result"
    }
   ],
   "source": [
    "#Day 2.2\n",
    "aim = 0\n",
    "hpos = 0\n",
    "depth = 0\n",
    "for d in day2:\n",
    "    inst, amount = tuple(d.split(\" \"))\n",
    "    amount = int(amount)\n",
    "    if inst == \"down\":\n",
    "        aim += amount\n",
    "    if inst == \"up\":\n",
    "        aim -= amount\n",
    "    if inst == \"forward\":\n",
    "        hpos += amount\n",
    "        depth += aim * amount\n",
    "hpos * depth"
   ]
  },
  {
   "cell_type": "code",
   "execution_count": 31,
   "id": "26969b27",
   "metadata": {},
   "outputs": [],
   "source": [
    "day1 = g(1, f=int)"
   ]
  },
  {
   "cell_type": "code",
   "execution_count": 33,
   "id": "555039b2",
   "metadata": {},
   "outputs": [
    {
     "data": {
      "text/plain": [
       "1390"
      ]
     },
     "execution_count": 33,
     "metadata": {},
     "output_type": "execute_result"
    }
   ],
   "source": [
    "#Day 1\n",
    "prev = None\n",
    "cnt = 0\n",
    "for d in day1:\n",
    "    if prev and d > prev:\n",
    "        cnt += 1\n",
    "    prev = d\n",
    "cnt"
   ]
  },
  {
   "cell_type": "code",
   "execution_count": 35,
   "id": "80eb0faf",
   "metadata": {},
   "outputs": [
    {
     "data": {
      "text/plain": [
       "1457"
      ]
     },
     "execution_count": 35,
     "metadata": {},
     "output_type": "execute_result"
    }
   ],
   "source": [
    "#Day 1.2\n",
    "prev = None\n",
    "cnt = 0\n",
    "for i,d in enumerate(day1):\n",
    "    s = sum(day1[i:i+3])\n",
    "    if prev and s > prev:\n",
    "        cnt += 1\n",
    "    prev = s\n",
    "cnt"
   ]
  }
 ],
 "metadata": {
  "kernelspec": {
   "display_name": "Python 3 (ipykernel)",
   "language": "python",
   "name": "python3"
  },
  "language_info": {
   "codemirror_mode": {
    "name": "ipython",
    "version": 3
   },
   "file_extension": ".py",
   "mimetype": "text/x-python",
   "name": "python",
   "nbconvert_exporter": "python",
   "pygments_lexer": "ipython3",
   "version": "3.9.6"
  }
 },
 "nbformat": 4,
 "nbformat_minor": 5
}
